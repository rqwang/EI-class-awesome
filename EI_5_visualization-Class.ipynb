{
 "cells": [
  {
   "cell_type": "markdown",
   "metadata": {},
   "source": [
    "Modified by Roger Wang (rq.wang@rutgers.edu)\n",
    "\n",
    "Origin: https://www.kaggle.com/residentmario/welcome-to-data-visualization"
   ]
  },
  {
   "cell_type": "markdown",
   "metadata": {
    "_cell_guid": "db873c85-28d4-42bc-a779-84bb7763d24d",
    "_uuid": "e6771b57022df4ea87adb58395cfb2748978166a"
   },
   "source": [
    "# Univariate plotting with pandas\n",
    "\n",
    "<table>\n",
    "<tr>\n",
    "<td><img src=\"https://i.imgur.com/skaZPhb.png\" width=\"350px\"/></td>\n",
    "<td><img src=\"https://i.imgur.com/gaNttYd.png\" width=\"350px\"/></td>\n",
    "<td><img src=\"https://i.imgur.com/pampioh.png\"/></td>\n",
    "<td><img src=\"https://i.imgur.com/OSbuszd.png\"/></td>\n",
    "\n",
    "<!--<td><img src=\"https://i.imgur.com/ydaMhT1.png\" width=\"350px\"/></td>\n",
    "<td><img src=\"https://i.imgur.com/WLAqDSV.png\" width=\"350px\"/></td>\n",
    "<td><img src=\"https://i.imgur.com/Tj2y9gH.png\"/></td>\n",
    "<td><img src=\"https://i.imgur.com/X0qXLCu.png\"/></td>-->\n",
    "</tr>\n",
    "<tr>\n",
    "<td style=\"font-weight:bold; font-size:16px;\">Bar Chat</td>\n",
    "<td style=\"font-weight:bold; font-size:16px;\">Line Chart</td>\n",
    "<td style=\"font-weight:bold; font-size:16px;\">Area Chart</td>\n",
    "<td style=\"font-weight:bold; font-size:16px;\">Histogram</td>\n",
    "</tr>\n",
    "<tr>\n",
    "<td>df.plot.bar()</td>\n",
    "<td>df.plot.line()</td>\n",
    "<td>df.plot.area()</td>\n",
    "<td>df.plot.hist()</td>\n",
    "</tr>\n",
    "<tr>\n",
    "<td>Good for nominal and small ordinal categorical data.</td>\n",
    "<td>\tGood for ordinal categorical and interval data.</td>\n",
    "<td>Good for ordinal categorical and interval data.</td>\n",
    "<td>Good for interval data.</td>\n",
    "</tr>\n",
    "</table>\n",
    "\n",
    "----\n",
    "\n",
    "The `pandas` library is the core library for Python data analysis: the \"killer feature\" that makes the entire ecosystem stick together. However, it can do more than load and transform your data: it can visualize it too! Indeed, the easy-to-use and expressive pandas plotting API is a big part of `pandas` popularity.\n",
    "\n",
    "In this section we will learn the basic `pandas` plotting facilities, starting with the simplest type of visualization: single-variable or \"univariate\" visualizations. This includes basic tools like bar plots and line charts. Through these we'll get an understanding of `pandas` plotting library structure, and spend some time examining data types."
   ]
  },
  {
   "cell_type": "code",
   "execution_count": null,
   "metadata": {
    "_cell_guid": "572b9ceb-6d85-4a64-bc81-f8cb9cd46398",
    "_uuid": "59171533b53fcf7b59725f1b8b12d0a31688b4d2"
   },
   "outputs": [],
   "source": [
    "import pandas as pd\n",
    "%matplotlib inline \n",
    "\n",
    "reviews = pd.read_csv(\"../2019_EEAT/data_collection/wine-reviews/winemag-data_first150k.csv\", index_col=0)\n",
    "reviews.head(3)"
   ]
  },
  {
   "cell_type": "markdown",
   "metadata": {
    "_cell_guid": "0ff0e045-9d85-4120-a51e-8bdba125c45f",
    "_uuid": "41332402f0d7d1a76cb93f17fabc238a4e99ca21"
   },
   "source": [
    "## Bar charts and categorical data\n",
    "\n",
    "Bar charts are arguably the simplest data visualization. They map categories to numbers: the amount of eggs consumed for breakfast (a category) to a number breakfast-eating Americans, for example; or, in our case, wine-producing provinces of the world (category) to the number of labels of wines they produce (number):"
   ]
  },
  {
   "cell_type": "code",
   "execution_count": null,
   "metadata": {
    "_cell_guid": "09f87ff1-9742-43ea-ac23-105d848100b8",
    "_uuid": "21b19b59eb6f9161eb93655567c1b7bb69f865ed"
   },
   "outputs": [],
   "source": [
    "reviews['province'].value_counts().head(10).plot.bar()"
   ]
  },
  {
   "cell_type": "markdown",
   "metadata": {
    "_cell_guid": "8592d9ae-7282-4106-ba82-c50ebc3f3866",
    "_uuid": "d8acc281621e8fe8e5cafdc4cb7d22f1c394630d"
   },
   "source": [
    "What does this plot tell us? It says California produces far more wine than any other province of the world! We might ask what percent of the total is Californian vintage? This bar chart tells us absolute numbers, but it's more useful to know relative proportions. No problem:"
   ]
  },
  {
   "cell_type": "code",
   "execution_count": null,
   "metadata": {
    "_cell_guid": "c28ea90f-6b11-437c-8c66-cd9a6ab2906c",
    "_uuid": "f7d1ce10e4be0430c40c737fa4389173c251e550"
   },
   "outputs": [],
   "source": [
    "(reviews['province'].value_counts().head(10) / len(reviews)).plot.bar()"
   ]
  },
  {
   "cell_type": "markdown",
   "metadata": {
    "_cell_guid": "75b49b81-e79c-43f5-a082-a50957003a71",
    "_uuid": "8a8d5956b6660e838343312da7d4b4b19b04ff80"
   },
   "source": [
    "California produces almost a third of wines reviewed in Wine Magazine!\n",
    "\n",
    "Bar charts are very flexible: The height can represent anything, as long as it is a number. And each bar can represent anything, as long as it is a category.\n",
    "\n",
    "In this case the categories are **nominal categories**: \"pure\" categories that don't make a lot of sense to order. Nominal categorical variables include things like countries, ZIP codes, types of cheese, and lunar landers. The other kind are **ordinal categories**: things that do make sense to compare, like earthquake magnitudes, housing complexes with certain numbers of apartments, and the sizes of bags of chips at your local deli.\n",
    "\n",
    "Or, in our case, the number of reviews of a certain score allotted by Wine Magazine:"
   ]
  },
  {
   "cell_type": "code",
   "execution_count": null,
   "metadata": {
    "_cell_guid": "d75758cd-08d2-4982-a542-0d69c6719a12",
    "_uuid": "c5023d32644a97e4ae5ac2f778e482436c3bc944"
   },
   "outputs": [],
   "source": [
    "reviews['points'].value_counts().sort_index().plot.bar()"
   ]
  },
  {
   "cell_type": "markdown",
   "metadata": {
    "_cell_guid": "12c8e556-f4d8-4c05-bf00-9bd5cea6dac2",
    "_uuid": "d2682d373d7f52173ef04ef44a051c42c46a93f9"
   },
   "source": [
    "As you can see, every vintage is allotted an overall score between 80 and 100; and, if we are to believe that Wine Magazine is an arbiter of good taste, then a 92 is somehow meaningfully \"better\" than a 91."
   ]
  },
  {
   "cell_type": "markdown",
   "metadata": {
    "_cell_guid": "458bf34e-29ca-4e60-b5ec-ca917b45af39",
    "_uuid": "15733eda442c4c818ec6b2eb6f9e0a15de85f10b"
   },
   "source": [
    "## Line charts\n",
    "\n",
    "The wine review scorecard has 20 different unique values to fill, for which our bar chart is just barely enough. What would we do if the magazine rated things 0-100? We'd have 100 different categories; simply too many to fit a bar in for each one!\n",
    "\n",
    "In that case, instead of bar chart, we could use a line chart:"
   ]
  },
  {
   "cell_type": "code",
   "execution_count": null,
   "metadata": {
    "_cell_guid": "289dab16-4ed4-4e91-8abb-6f92d176a48d",
    "_uuid": "1b056bfc78b0a70a6178463a74dea4f62a547ff6"
   },
   "outputs": [],
   "source": [
    "reviews['points'].value_counts().sort_index().plot.line()"
   ]
  },
  {
   "cell_type": "markdown",
   "metadata": {
    "_cell_guid": "4f3e118a-a4d8-4975-bdd0-28476f1dba76",
    "_uuid": "ee5416417f8e486a6461530ff7ca1fc083d6f4fa"
   },
   "source": [
    "A line chart can pass over any number of many individual values, making it the tool of first choice for distributions with many unique values or categories.\n",
    "\n",
    "However, line charts have an important weakness: unlike bar charts, they're not appropriate for nominal categorical data. While bar charts distinguish between every \"type\" of point line charts mushes them together. So a line chart asserts an order to the values on the horizontal axis, and the order won’t make sense with some data. After all, a \"descent\" from California to Washington to Tuscany doesn't mean much!\n",
    "\n",
    "Line charts also make it harder to distinguish between individual values.\n",
    "\n",
    "In general, if your data can fit into a bar chart, just use a bar chart!"
   ]
  },
  {
   "cell_type": "markdown",
   "metadata": {
    "_cell_guid": "b1cc4eb7-9858-497a-a2d7-9fad4d2d09ab",
    "_uuid": "e4fd2dabe2eacac899c0268a3c0e3ebf55d0b8f7"
   },
   "source": [
    "## Quick break: bar or line\n",
    "\n",
    "Let's do a quick exercise. Suppose that we're interested in counting the following variables:\n",
    "\n",
    "1. The number of tubs of ice cream purchased by flavor, given that there are 5 different flavors.\n",
    "2. The average number of cars purchased from American car manufacturers in Michigan.\n",
    "3. Test scores given to students by teachers at a college, on a 0-100 scale.\n",
    "4. The number of restaurants located on the street by the name of the street in Lower Manhattan.\n",
    "\n",
    "For which of these would a bar chart be better? Which ones would be better off with a line?"
   ]
  },
  {
   "cell_type": "code",
   "execution_count": null,
   "metadata": {
    "_cell_guid": "78987153-80f6-4871-bfbe-99fe44bf719e",
    "_kg_hide-input": true,
    "_kg_hide-output": true,
    "_uuid": "ce2a9ba5a3d813fbea8783ffb25b85b0d6f0d6bd"
   },
   "outputs": [],
   "source": [
    "raw = \"\"\"\n",
    "<ol>\n",
    "<li>This is a simple nominal categorical variable. Five bars will fit easily into a display, so a bar chart will do!</li>\n",
    "<br/>\n",
    "<li>This example is similar: nominal categorical variables. There are probably more than five American car manufacturers, so the chart will be a little more crowded, but a bar chart will still do it.</li>\n",
    "<br/>\n",
    "<li>This is an ordinal categorical variable. We have a lot of potential values between 0 and 100, so a bar chart won't have enough room. A line chart is better.</li>\n",
    "<br/>\n",
    "<li>\n",
    "<p>Number 4 is a lot harder. City streets are obviously ordinary categorical variables, so we *ought* to use a bar chart; but there are a lot of streets out there! We couldn't possibly fit all of them into a display.</p>\n",
    "<p>Sometimes, your data will have too many points to do something \"neatly\", and that's OK. If you organize the data by value count and plot a line chart over that, you'll learn valuable information about *percentiles*: that a street in the 90th percentile has 20 restaurants, for example, or one in the 50th just 6. This is basically a form of aggregation: we've turned streets into percentiles!</p> \n",
    "<p>The lesson: your *interpretation* of the data is more important than the tool that you use.</p></li>\n",
    "</ol>\n",
    "\"\"\"\n",
    "\n",
    "from IPython.display import HTML\n",
    "HTML(raw)"
   ]
  },
  {
   "cell_type": "markdown",
   "metadata": {
    "_cell_guid": "7be0a9b3-3437-4f0f-8a9a-3fc5557114d8",
    "_uuid": "7761ccf7027a4af865154018bfb73c128c0de8af"
   },
   "source": [
    "## Area charts\n",
    "\n",
    "Area charts are just line charts, but with the bottom shaded in. That's it!"
   ]
  },
  {
   "cell_type": "code",
   "execution_count": null,
   "metadata": {
    "_cell_guid": "c8e00ae9-e36e-414b-a562-9ae11b2145b8",
    "_uuid": "29230c6f8fc9d664aa0d37cc75d9c3fc8e0ac8d5"
   },
   "outputs": [],
   "source": [
    "reviews['points'].value_counts().sort_index().plot.area()"
   ]
  },
  {
   "cell_type": "markdown",
   "metadata": {
    "_cell_guid": "811f6551-cd81-43dc-82ae-26f95a5996c4",
    "_uuid": "e22b8c1e65a1d2ea0cf18962a61c020764569570"
   },
   "source": [
    "When plotting only one variable, the difference between an area chart and a line chart is mostly visual. In this context, they can be used interchangably."
   ]
  },
  {
   "cell_type": "markdown",
   "metadata": {
    "_cell_guid": "d635138c-e23e-472a-a495-59bac6d077ef",
    "_uuid": "3ffe5195d7374af2c1533ace76eba90cd140a00a"
   },
   "source": [
    "## Interval data\n",
    "\n",
    "Let's move on by looking at yet another type of data, an **interval variable**.\n",
    "\n",
    "Examples of interval variables are the wind speed in a hurricane, shear strength in concrete, and the temperature of the sun. An interval variable goes beyond an ordinal categorical variable: it has a *meaningful* order, in the sense that we can quantify what the difference between two entries is itself an interval variable.\n",
    "\n",
    "For example, if I say that this sample of water is -20 degrees Celcius, and this other sample is 120 degrees Celcius, then I can quantify the difference between them: 140 degrees \"worth\" of heat, or such-and-such many joules of energy.\n",
    "\n",
    "The difference can be qualitative sometimes. At a minimum, being able to state something so clearly feels a lot more \"measured\" than, say, saying you'll buy this wine and not that one, because this one scored a 92 on some taste test and that one only got an 85. More definitively, any variable that has infinitely many possible values is definitely an interval variable (why not 120.1 degrees? 120.001? 120.0000000001? Etc).\n",
    "\n",
    "Line charts work well for interval data. Bar charts don't—unless your ability to measure it is very limited, interval data will naturally vary by quite a lot.\n",
    "\n",
    "Let's apply a new tool, the histogram, to an interval variable in our dataset, price (we'll cut price off at 200$ a bottle; more on why shortly)."
   ]
  },
  {
   "cell_type": "markdown",
   "metadata": {
    "_cell_guid": "c8dbf164-a024-47c6-b0e7-5b1109f815a0",
    "_uuid": "4ebe0e7312ed0a8c3d58f9740148de43843cbb16"
   },
   "source": [
    "## Histograms\n",
    "\n",
    "Here's a histogram:"
   ]
  },
  {
   "cell_type": "code",
   "execution_count": null,
   "metadata": {
    "_cell_guid": "4cd3fac2-0eeb-4519-8d66-348c0994b3d3",
    "_uuid": "489e41a20bb5ecbbf29fb02f912fc74bc0dd0c66"
   },
   "outputs": [],
   "source": [
    "reviews[reviews['price'] < 200]['price'].plot.hist()"
   ]
  },
  {
   "cell_type": "markdown",
   "metadata": {
    "_cell_guid": "03058fba-c1ec-4263-97e0-ac2500f604d3",
    "_uuid": "747d3a4ab5b14ce8a86c41d6086b3f3453052e2a"
   },
   "source": [
    "A histogram looks, trivially, like a bar plot. And it basically is! In fact, a histogram is special kind of bar plot that splits your data into even intervals and displays how many rows are in each interval with bars. The only analytical difference is that instead of each bar representing a single value, it represents a range of values.\n",
    "\n",
    "However, histograms have one major shortcoming (the reason for our 200$ caveat earlier). Because they break space up into even intervals, they don't deal very well with skewed data:"
   ]
  },
  {
   "cell_type": "code",
   "execution_count": null,
   "metadata": {
    "_cell_guid": "5244e485-8422-4fac-ae99-79a960a5384e",
    "_uuid": "200656f998c0a73ff57ca5e0a41991ed7ce67e8a"
   },
   "outputs": [],
   "source": [
    "reviews['price'].plot.hist()"
   ]
  },
  {
   "cell_type": "markdown",
   "metadata": {
    "_cell_guid": "2ef00e66-c62d-433a-a84d-a943bb6a8663",
    "_uuid": "69bcae9e70a4c68abf4c8ab55f4345ebb3772dce"
   },
   "source": [
    "This is the real reason I excluded the >$200 bottles earlier; some of these vintages are really expensive! And the chart will \"grow\" to include them, to the detriment of the rest of the data being shown."
   ]
  },
  {
   "cell_type": "code",
   "execution_count": null,
   "metadata": {
    "_cell_guid": "fd895cd5-7918-4890-a7cf-16a47383a13c",
    "_uuid": "5793b0af9799a040800a3e204066234e2172b22e"
   },
   "outputs": [],
   "source": [
    "reviews[reviews['price'] > 1500]"
   ]
  },
  {
   "cell_type": "markdown",
   "metadata": {
    "_cell_guid": "a5454d35-c2c5-4bd2-b26b-0d7e35ac6017",
    "_uuid": "243ee891095adcef6041c1ebdae1617ae89188b2"
   },
   "source": [
    "There are many ways of dealing with the skewed data problem; those are outside the scope of this tutorial. The easiest is to just do what I did: cut things off at a sensible level.\n",
    "\n",
    "This phenomenon is known (statistically) as **skew**, and it's a fairly common occurance among interval variables.\n",
    "\n",
    "Histograms work best for interval variables without skew. They also work really well for ordinal categorical variables like `points`:"
   ]
  },
  {
   "cell_type": "code",
   "execution_count": null,
   "metadata": {
    "_cell_guid": "cc0d2d1e-0a1d-49e5-8636-6b41bc3b3a05",
    "_uuid": "2a145207771c771412787ac08b3e7415ab664fa0"
   },
   "outputs": [],
   "source": [
    "reviews['points'].plot.hist()"
   ]
  },
  {
   "cell_type": "markdown",
   "metadata": {
    "_cell_guid": "6a39a9cd-df1f-409c-9074-d1a93795076b",
    "_uuid": "1e06cb366574638bac602421637b00a0a98993e1"
   },
   "source": [
    "## Exercise: bar, line/area, or histogram?\n",
    "\n",
    "Let's do another exercise. What would the best chart type be for:\n",
    "\n",
    "1. The volume of apples picked at an orchard based on the type of apple (Granny Smith, Fuji, etcetera).\n",
    "2. The number of points won in all basketball games in a season.\n",
    "3. The count of apartment buildings in Chicago by the number of individual units.\n",
    "\n",
    "To see the answer, click the \"Output\" button on the code block below."
   ]
  },
  {
   "cell_type": "code",
   "execution_count": null,
   "metadata": {
    "_cell_guid": "3b9e81b2-1e83-4c5b-857e-b047e3f684c8",
    "_kg_hide-input": true,
    "_kg_hide-output": true,
    "_uuid": "eea8cc2d8bfc1509536b0e3070150c24c28ffe52"
   },
   "outputs": [],
   "source": [
    "raw = \"\"\"\n",
    "<ol>\n",
    "<li>Example number 1 is a nominal categorical example, and hence, a pretty straightfoward bar graph target.</li>\n",
    "<br/>\n",
    "<li>Example 2 is a large nominal categorical variable. A basketball game team can score between 50 and 150 points, too much for a bar chart; a line chart is a good way to go. A histogram could also work.</li>\n",
    "<br/>\n",
    "<li>Example 3 is an interval variable: a single building can have anywhere between 1 and 1000 or more apartment units. A line chart could work, but a histogram would probably work better! Note that this distribution is going to have a lot of skew (there is only a handful of very, very large apartment buildings).</li>\n",
    "</ol>\n",
    "\"\"\"\n",
    "\n",
    "from IPython.display import HTML\n",
    "HTML(raw)"
   ]
  },
  {
   "cell_type": "markdown",
   "metadata": {
    "_cell_guid": "fbf53981-2e97-4cc3-ad2c-8522e6de477f",
    "_uuid": "e6bacabdce49cbf740f87499534cea10ecd89d86"
   },
   "source": [
    "## Conclusion and exercise\n",
    "\n",
    "In this section of the tutorial we learned about the handful of different kinds of data, and looked at some of the built-in tools that `pandas` provides us for plotting them.\n",
    "\n",
    "Now it's your turn!\n",
    "\n",
    "For these exercises, we'll be working with the Pokemon dataset (because what goes together better than wine and Pokemon?)."
   ]
  },
  {
   "cell_type": "code",
   "execution_count": null,
   "metadata": {
    "_cell_guid": "185dd634-2ff7-41d5-9025-5875bfaa4c9d",
    "_uuid": "1a9d0a5d006b6845600e14396933258c31465f90"
   },
   "outputs": [],
   "source": [
    "pd.set_option('max_columns', None)\n",
    "pokemon = pd.read_csv(\"../2019_EEAT/data_collection/pokemon.csv\")\n",
    "pokemon.head(3)"
   ]
  },
  {
   "cell_type": "markdown",
   "metadata": {
    "_cell_guid": "1d86595c-2a24-4aba-8567-f1256e35ccbf",
    "_uuid": "ebf442d35fa1de66b43956db739ad426fc740933"
   },
   "source": [
    "The frequency of Pokemon by type:"
   ]
  },
  {
   "cell_type": "code",
   "execution_count": null,
   "metadata": {
    "_cell_guid": "54144bd1-bfc9-4ae0-8036-b5b73ce31f5e",
    "_kg_hide-input": true,
    "_uuid": "7f5f07645791f33cfbca0ecce8c2c19a0199f6da",
    "scrolled": true
   },
   "outputs": [],
   "source": []
  },
  {
   "cell_type": "markdown",
   "metadata": {
    "_cell_guid": "4ffd92d7-9b72-4a67-92fd-d9d34ecc96a8",
    "_uuid": "275c2b969804ab77a8ae07e2d2f9488ec81f9006"
   },
   "source": [
    "The frequency of Pokemon by HP stat total:"
   ]
  },
  {
   "cell_type": "code",
   "execution_count": null,
   "metadata": {
    "_cell_guid": "be7eabc3-20b7-4239-8334-4b537dbd1b39",
    "_kg_hide-input": true,
    "_uuid": "53b333f515ce8c4a0dd19d53e7f86ad190003a37"
   },
   "outputs": [],
   "source": []
  },
  {
   "cell_type": "markdown",
   "metadata": {
    "_cell_guid": "87854b5d-933d-4909-b292-425e0cbf09a8",
    "_uuid": "0f5ce4fefd0744944a06c60017752974f61639c8"
   },
   "source": [
    "The frequency of Pokemon by Total:"
   ]
  },
  {
   "cell_type": "code",
   "execution_count": null,
   "metadata": {
    "_cell_guid": "5de70ca3-e30f-40fa-b459-1b9412fd4956",
    "_kg_hide-input": true,
    "_uuid": "1ad5baabdb33c46b3c8dede8af09a22d39c0fecd"
   },
   "outputs": [],
   "source": []
  },
  {
   "cell_type": "markdown",
   "metadata": {
    "_cell_guid": "f14a6c39-a6a6-45a6-a6db-c2a95e4d9a40",
    "_uuid": "37d0200e9bded9a4e9f7546a13f0c4ab35cb116e"
   },
   "source": [
    "# Bivariate plotting with pandas\n",
    "\n",
    "<table>\n",
    "<tr>\n",
    "<td><img src=\"https://i.imgur.com/bBj1G1v.png\" width=\"350px\"/></td>\n",
    "<td><img src=\"https://i.imgur.com/ChK9zR3.png\" width=\"350px\"/></td>\n",
    "<td><img src=\"https://i.imgur.com/KBloVHe.png\" width=\"350px\"/></td>\n",
    "<td><img src=\"https://i.imgur.com/C7kEWq7.png\" width=\"350px\"/></td>\n",
    "</tr>\n",
    "<tr>\n",
    "<td style=\"font-weight:bold; font-size:16px;\">Scatter Plot</td>\n",
    "<td style=\"font-weight:bold; font-size:16px;\">Hex Plot</td>\n",
    "<td style=\"font-weight:bold; font-size:16px;\">Stacked Bar Chart</td>\n",
    "<td style=\"font-weight:bold; font-size:16px;\">Bivariate Line Chart</td>\n",
    "</tr>\n",
    "<tr>\n",
    "<td>df.plot.scatter()</td>\n",
    "<td>df.plot.hexbin()</td>\n",
    "<td>df.plot.bar(stacked=True)</td>\n",
    "<td>df.plot.line()</td>\n",
    "</tr>\n",
    "<tr>\n",
    "<td>Good for interval and some nominal categorical data.</td>\n",
    "<td>Good for interval and some nominal categorical data.</td>\n",
    "<td>Good for nominal and ordinal categorical data.</td>\n",
    "<td>Good for ordinal categorical and interval data.</td>\n",
    "</tr>\n",
    "</table>\n",
    "\n",
    "----\n",
    "\n",
    "\n",
    "In the previous notebook, we explored using `pandas` to plot and understand relationships within a single column. In this notebook, we'll expand this view by looking at plots that consider two variables at a time.\n",
    "\n",
    "Data without relationships between variables is the data science equivalent of a blank canvas. To paint the picture in, we need to understand how variables interact with one another. Does an increase in one variable correlate with an increase in another? Does it relate to a decrease somewhere else? The best way to paint the picture in is by using plots that enable these possibilities."
   ]
  },
  {
   "cell_type": "code",
   "execution_count": null,
   "metadata": {
    "_cell_guid": "09b3d35a-a0a3-400b-ba07-6e63d31c57a5",
    "_uuid": "3aed82c633067c88ccab2fd99f403211c019aec2"
   },
   "outputs": [],
   "source": [
    "import pandas as pd\n",
    "reviews = pd.read_csv(\"../data_collection/wine-reviews/winemag-data_first150k.csv\", index_col=0)\n",
    "reviews.head()"
   ]
  },
  {
   "cell_type": "markdown",
   "metadata": {
    "_cell_guid": "73e25c94-3e15-483e-8104-78ca461b11eb",
    "_uuid": "0e1d38092973a1cddd7deed2f0a8d62acf7eafb4"
   },
   "source": [
    "## Scatter plot\n",
    "\n",
    "The simplest bivariate plot is the lowly **scatter plot**. A simple scatter plot simply maps each variable of interest to a point in two-dimensional space. This is the result:"
   ]
  },
  {
   "cell_type": "code",
   "execution_count": null,
   "metadata": {
    "_cell_guid": "4265c95d-5d23-4e9d-96c9-99a23dbbf6b2",
    "_uuid": "2af420e85bbbe6c53c990478a415e269a762ce74"
   },
   "outputs": [],
   "source": [
    "reviews[reviews['price'] < 100].sample(100).plot.scatter(x='price', y='points')"
   ]
  },
  {
   "cell_type": "markdown",
   "metadata": {
    "_cell_guid": "a2c42f84-3720-4cfd-ae13-0c8e9bb26b02",
    "_uuid": "424ed88967885b75428f6d5e6af7c5efd60447c0"
   },
   "source": [
    "This plot shows us that price and points are weakly correlated: that is, that more expensive wines do generally earn more points when reviewed.\n",
    "\n",
    "Note that in order to make effective use of this plot, we had to **downsample** our data, taking just 100 points from the full set. This is because naive scatter plots do not effectively treat points which map to the same place. For example, if two wines, both costing 100 dollars, get a rating of 90, then the second one is overplotted onto the first one, and we add just one point to the plot.\n",
    "\n",
    "This isn't a problem if it happens just a few times. But with enough points the distribution starts to look like a shapeless blob, and you lose the forest for the trees:"
   ]
  },
  {
   "cell_type": "code",
   "execution_count": null,
   "metadata": {
    "_cell_guid": "d0ba3d4c-3d5d-4e26-8635-02490690b5fa",
    "_uuid": "2aaa5810e1066c5a7767003014e34da78e845945"
   },
   "outputs": [],
   "source": [
    "reviews[reviews['price'] < 100].plot.scatter(x='price', y='points')"
   ]
  },
  {
   "cell_type": "markdown",
   "metadata": {
    "_cell_guid": "2ce7a9bb-2c2c-43f9-a92f-9671a9e72b07",
    "_uuid": "9e853fc686a49318704cdb6ff9d8c2b977ece321"
   },
   "source": [
    "Because of their weakness to overplotting, scatter plots work best with relatively small datasets, and with variables which have a large number of unique values.\n",
    "\n",
    "There are a few ways to deal with overplotting. We've already demonstrated one way: sampling the points. Another interesting way to do this that's built right into `pandas` is to use our next plot type, a hexplot."
   ]
  },
  {
   "cell_type": "markdown",
   "metadata": {
    "_cell_guid": "2a04f27a-267c-4ed6-8dec-4a768c7e085e",
    "_uuid": "fe3643a0454a3f21eb4275530f9fe2e38ae8ed4a"
   },
   "source": [
    "## Hexplot\n",
    "\n",
    "A  **hex plot** aggregates points in space into hexagons, and then colors those hexagons based on the values within them:"
   ]
  },
  {
   "cell_type": "code",
   "execution_count": null,
   "metadata": {
    "_cell_guid": "8b6c247a-517f-42cd-9c3e-50c85d84356f",
    "_uuid": "d42c2e53d1c27bf3165067e0bab596dc3eb84614"
   },
   "outputs": [],
   "source": [
    "reviews[reviews['price'] < 100].plot.hexbin(x='price', y='points', gridsize=15)"
   ]
  },
  {
   "cell_type": "markdown",
   "metadata": {
    "_cell_guid": "9edaadda-3537-48f7-9e7c-cba259a11bc0",
    "_uuid": "f9f3f0acdf7fdfc426d25489afae9a5dcb1a5014"
   },
   "source": [
    "(note: the x-axis is `points`, but is missing from the chart due to a bug)\n",
    "\n",
    "The data in this plot is directly comparable with that in the scatter plot from earlier, but the story it tells us is very different. From this hexplot we can see that the bottles of wine reviewed by Wine Magazine cluster around 87.5 points and around $20.\n",
    "\n",
    "We did not see this effect by looking at the scatter plot, because too many similarly-priced, similarly-scoring wines were overplotted. By doing away with this problem, this hexplot presents us a much more useful view of the dataset.\n",
    "\n",
    "Hexplots and scatter plots can by applied to combinations of interval variables and/or ordinal categorical variables."
   ]
  },
  {
   "cell_type": "markdown",
   "metadata": {
    "_cell_guid": "c6c7c234-fcdc-4164-99ee-fcc505699a58",
    "_uuid": "dd5ce3eca8388bfec03b200981c9c1a162c0d60e"
   },
   "source": [
    "## Stacked plots\n",
    "\n",
    "Scatter plots and hex plots are new. But we can also use the simpler plots we saw in the last notebook.\n",
    "\n",
    "The easiest way to modify them to support another visual variable is by using stacking. A stacked chart is one which plots the variables one on top of the other.\n",
    "\n",
    "We'll use a supplemental selection of the five most common wines for this next section."
   ]
  },
  {
   "cell_type": "code",
   "execution_count": null,
   "metadata": {
    "_cell_guid": "7ac873e1-acf7-4ca6-9d5c-fc153c3a5f67",
    "_uuid": "25e5f61f206936edf8256325b840b0e1db603f7c"
   },
   "outputs": [],
   "source": [
    "wine_counts = pd.read_csv(\"../data_collection/most-common-wine-scores/top-five-wine-score-counts.csv\",\n",
    "                          index_col=0)"
   ]
  },
  {
   "cell_type": "markdown",
   "metadata": {
    "_cell_guid": "1708ba11-2d36-4bc5-b1a0-5d0df451e71a",
    "_uuid": "01491b0974ae78679f81d46810c80946a9030ae6"
   },
   "source": [
    "`wine_counts` counts the number of times each of the possible review scores was received by the five most commonly reviewed types of wines:"
   ]
  },
  {
   "cell_type": "code",
   "execution_count": null,
   "metadata": {
    "_cell_guid": "fe331c41-b9db-4f32-8d9b-85ac8c2a4874",
    "_uuid": "ac42b2097981f02252154e5a605b2f3949e26c31"
   },
   "outputs": [],
   "source": [
    "wine_counts.head()"
   ]
  },
  {
   "cell_type": "markdown",
   "metadata": {
    "_cell_guid": "3660ff18-9a24-4bb2-bb52-45fbf1f5b44b",
    "_uuid": "e7387d16c3c8034693ef35a0bedbb409b82c9eef"
   },
   "source": [
    "Many `pandas` multivariate plots expect input data to be in this format, with one categorical variable in the columns, one categorical variable in the rows, and counts of their intersections in the entries. \n",
    "\n",
    "Let's now look at some stacked plots. We'll start with the stacked bar chart."
   ]
  },
  {
   "cell_type": "code",
   "execution_count": null,
   "metadata": {
    "_cell_guid": "ea937860-2007-462e-9256-ad04565cd92e",
    "_uuid": "62e32c42570d07e74330147e8e15153c558a2b37"
   },
   "outputs": [],
   "source": [
    "wine_counts.plot.bar(stacked=True)"
   ]
  },
  {
   "cell_type": "markdown",
   "metadata": {
    "_cell_guid": "5e809373-b709-4b95-b655-bb02237a1063",
    "_uuid": "ced800e5c23e0bcbc681f6e262c77c9e9a995fa7"
   },
   "source": [
    "Stacked bar plots share the strengths and weaknesses of univariate bar charts. They work best for nominal categorical or small ordinal categorical variables.\n",
    "\n",
    "Another simple example is the area plot, which lends itself very naturally to this form of manipulation:"
   ]
  },
  {
   "cell_type": "code",
   "execution_count": null,
   "metadata": {
    "_cell_guid": "3cd35cef-6fd0-490b-848c-dd602d83f7c8",
    "_uuid": "58648a443b94b1330070dbe11447fa1c1c0f8740"
   },
   "outputs": [],
   "source": [
    "wine_counts.plot.area()"
   ]
  },
  {
   "cell_type": "markdown",
   "metadata": {
    "_cell_guid": "44b7ee06-5428-439e-9829-bb893e9e28e8",
    "_uuid": "4674d0194edbc4f2e70866f55da2645025101a23"
   },
   "source": [
    "Like single-variable area charts, multivariate area charts are meant for nominal categorical or interval variables.\n",
    "\n",
    "Stacked plots are visually very pretty. However, they have two major limitations.\n",
    "\n",
    "The first limitation is that the second variable in a stacked plot must be a variable with a very limited number of possible values (probably an ordinal categorical, as here). Five different types of wine is a good number because it keeps the result interpretable; eight is sometimes mentioned as a suggested upper bound. Many dataset fields will not fit this critereon naturally, so you have to \"make do\", as here, by selecting a group of interest.\n",
    "\n",
    "The second limitation is one of interpretability. As easy as they are to make, and as pretty as they look, stacked plots make it really hard to distinguish concrete values. For example, looking at the plots above, can you tell which wine got a score of 87 more often: Red Blends (in purple), Pinot Noir (in red), or Chardonnay (in green)? It's actually really hard to tell!"
   ]
  },
  {
   "cell_type": "markdown",
   "metadata": {
    "_cell_guid": "bbc7dfdb-4090-47d7-85c0-4acccfc672f5",
    "_uuid": "c17ecb009cd51ef2e671ae9580abd5b6da12166f"
   },
   "source": [
    "## Bivariate line chart\n",
    "\n",
    "One plot type we've seen already that remains highly effective when made bivariate is the line chart. Because the line in this chart takes up so little visual space, it's really easy and effective to overplot multiple lines on the same chart."
   ]
  },
  {
   "cell_type": "code",
   "execution_count": null,
   "metadata": {
    "_cell_guid": "742c43c9-885c-4969-9c23-a5a63d940af9",
    "_uuid": "f3b3138890544d6654a5e27c5483bdb1a4470980"
   },
   "outputs": [],
   "source": [
    "wine_counts.plot.line()"
   ]
  },
  {
   "cell_type": "markdown",
   "metadata": {
    "_cell_guid": "9b9c3c34-de96-4d2a-a1ce-ecbce18e8d69",
    "_uuid": "f7ffee305a0cbdb41a16d4ab05e02f81fa89e7b1"
   },
   "source": [
    "Using a line chart this way makes inroads against the second limitation of stacked plotting: interpretability. Bivariate line charts are much more interpretable because the lines themselves don't take up much space. Their values remain readable when we place multiple lines side-by-side, as here.  \n",
    "\n",
    "For example, in this chart we can easily answer our question from the previous example: which wine most commonly scores an 87. We can see here that the Chardonnay, in green, narrowly beats out the Pinot Noir, in red."
   ]
  },
  {
   "cell_type": "markdown",
   "metadata": {
    "_cell_guid": "b82632f4-5a21-43e7-9df7-2757e4dcfe0b",
    "_uuid": "9d066077eade3df7e43eeb980381a5e14f42a974"
   },
   "source": [
    "----\n",
    "\n",
    "## Exercises\n",
    "\n",
    "In this section of the tutorial we introduced and explored some common bivariate plot types:\n",
    "\n",
    "* Scatter plots\n",
    "* Hex plots\n",
    "* Stacked bar charts and area charts\n",
    "* Bivariate line charts\n",
    "\n",
    "Let's now put what we've learned to the test!\n",
    "\n",
    "To start off, try answering the following questions:\n",
    "\n",
    "1. A scatter plot or hex plot is good for what two types of data?\n",
    "2. What type of data makes sense to show in a stacked bar chart, but not in a bivariate line chart?\n",
    "3. What type of data makes sense to show in a bivariate line chart, but not in a stacked bar chart?\n",
    "4. Suppose we create a scatter plot but find that due to the large number of points it's hard to interpret. What are two things we can do to fix this issue?\n",
    "\n",
    "To see the answers, click the \"Output\" button on the cell below."
   ]
  },
  {
   "cell_type": "code",
   "execution_count": null,
   "metadata": {
    "_cell_guid": "88c2e00f-1595-40f6-8099-e4c860b6ea03",
    "_kg_hide-input": true,
    "_kg_hide-output": true,
    "_uuid": "8edeb224c969e631b07d8aeeab7d8839cfa32ab5"
   },
   "outputs": [],
   "source": [
    "from IPython.display import HTML\n",
    "HTML(\"\"\"\n",
    "<ol>\n",
    "<li>Scatter plots and hex plots work best with a mixture of ordinal categorical and interval data.</li>\n",
    "<br/>\n",
    "<li>Nominal categorical data makes sense in a stacked bar chart, but not in a bivariate line chart.</li>\n",
    "<br/>\n",
    "<li>Interval data makes sense in a bivariate line chart, but not in a stacked bar chart.</li>\n",
    "<br/>\n",
    "<li>One way to fix this issue would be to sample the points. Another way to fix it would be to use a hex plot.</li>\n",
    "</ol>\n",
    "\"\"\")"
   ]
  },
  {
   "cell_type": "markdown",
   "metadata": {
    "_cell_guid": "a614ee1c-41cb-4338-9fd7-a06a8d9dc0be",
    "_uuid": "b98a4ae7804eee0a2adc625d17b72fd6f0e7d1ae"
   },
   "source": [
    "Next, let's replicate some plots. Recall the Pokemon dataset from earlier:"
   ]
  },
  {
   "cell_type": "code",
   "execution_count": null,
   "metadata": {
    "_cell_guid": "df5eca2b-aad2-4583-b3cd-48de4b6bb420",
    "_uuid": "423c0a457a6487d95b41785633fb2b00d7dc3cb9"
   },
   "outputs": [],
   "source": [
    "pokemon = pd.read_csv(\"../data_collection/Pokemon.csv\", index_col=0)\n",
    "pokemon.head()"
   ]
  },
  {
   "cell_type": "code",
   "execution_count": null,
   "metadata": {
    "_cell_guid": "1fc74bae-d290-4f72-b481-78ead07a1c6f",
    "_kg_hide-input": true,
    "_uuid": "028798b2b4cee37374fb53f3c6e5b4658f2033b3"
   },
   "outputs": [],
   "source": [
    "#plot scatter"
   ]
  },
  {
   "cell_type": "code",
   "execution_count": null,
   "metadata": {
    "_cell_guid": "9b9b3aa5-a8ce-4717-bc6f-ad8ef09282e9",
    "_kg_hide-input": true,
    "_uuid": "4027dac93bcf3d77eb4e07c49c831be30aa9c0cf"
   },
   "outputs": [],
   "source": [
    "# plot hexgon"
   ]
  },
  {
   "cell_type": "markdown",
   "metadata": {
    "_cell_guid": "cc3defbf-88c7-4744-94e2-1df1254ac325",
    "_uuid": "1c385e7a8dbb16903f2ce25eac123dcc34ee35b5"
   },
   "source": [
    "For thee next plot, use the following data:"
   ]
  },
  {
   "cell_type": "code",
   "execution_count": null,
   "metadata": {
    "_cell_guid": "fb61f746-3c6b-4461-b89d-c31f7414d9e8",
    "_uuid": "dc04a757fa939180bd36c340ba154a9d5bca9df1"
   },
   "outputs": [],
   "source": [
    "pokemon_stats_legendary = pokemon.groupby(['Legendary', 'Generation']).mean()[['Attack', 'Defense']]"
   ]
  },
  {
   "cell_type": "code",
   "execution_count": null,
   "metadata": {
    "_cell_guid": "0f91be2b-c180-4097-8648-af9f105ae93c",
    "_kg_hide-input": true,
    "_uuid": "c7f4927c36f617a15b56da12340c68d18a5daf35"
   },
   "outputs": [],
   "source": [
    "# plot bars"
   ]
  },
  {
   "cell_type": "markdown",
   "metadata": {
    "_cell_guid": "e58893f2-a0a8-4ae1-a919-dce6ba47c39a",
    "_uuid": "7002d9f9c6b74c6c0d1ea352e126b22575e91483"
   },
   "source": [
    "For the next plot, use the following data:"
   ]
  },
  {
   "cell_type": "code",
   "execution_count": null,
   "metadata": {
    "_cell_guid": "ebb7cc3d-4b72-4564-a5df-64c15af2d49b",
    "_uuid": "4c929c49bd752d1b047c9776f3296306bf896fc7",
    "scrolled": true
   },
   "outputs": [],
   "source": [
    "pokemon_stats_by_generation = pokemon.groupby('Generation').mean()[['HP', 'Attack', 'Defense', 'Sp. Atk', 'Sp. Def', 'Speed']]"
   ]
  },
  {
   "cell_type": "code",
   "execution_count": null,
   "metadata": {
    "_cell_guid": "77a0098d-7fbd-440a-a736-1232cf469256",
    "_kg_hide-input": true,
    "_uuid": "406782d0963db63ca0d4b29cff8207256da62584"
   },
   "outputs": [],
   "source": [
    "# plot lines"
   ]
  },
  {
   "cell_type": "markdown",
   "metadata": {
    "_cell_guid": "4974dc7f-17ee-45ef-8e77-cf14dc575da3",
    "_uuid": "73742ea40362bbe24bdf15d0303b3bc0a61501b5"
   },
   "source": [
    "## Conclusion\n",
    "\n",
    "In this section we introduced and explored some common bivariate plot types:\n",
    "\n",
    "* Scatter plots\n",
    "* Hex plots\n",
    "* Stacked bar charts and area charts\n",
    "* Bivariate line charts\n",
    "\n",
    "In the next section we will move on to exploring another plotting library, `seaborn`, which compliments `pandas` with many more advanced data visualization tools for you to use.\n",
    "\n",
    "[Click here to move on to the next section, \"Plotting with seaborn\"](https://www.kaggle.com/residentmario/plotting-with-seaborn/)."
   ]
  },
  {
   "cell_type": "markdown",
   "metadata": {
    "_cell_guid": "641ad5a0-e89d-4abc-8fa7-f44d32e6023d",
    "_uuid": "09408399780bfd7ef01e2824d5163dc4545a3ecd"
   },
   "source": [
    "# Styling your plots\n",
    "\n",
    "## Introduction\n",
    "\n",
    "Whenever exposing your work to an external audience (like, say, the Kaggle userbase), styling your work is a must. The defaults in `pandas` (and other tools) are rarely exactly right for the message you want to communicate. Tweaking your plot can greatly enhance the communicative power of your visualizations, helping to make your work more impactful.\n",
    "\n",
    "In this section we'll learn how to style the visualizations we've been creating. Because there are *so many* things you can tweak in your plot, it's impossible to cover everything, so we won't try to be comprehensive here. Instead this section will cover some of the most useful basics: changing figure sizes, colors, and font sizes; adding titles; and removing axis borders.\n",
    "\n",
    "An important skill in plot styling is knowing how to look things up. Comments like \"I have been using Matplotlib for a decade now, and I still have to look most things up\" are [all too common](https://youtu.be/aRxahWy-ul8?t=2m42s). If you're styling a `seaborn` plot, the library's [gallery](http://seaborn.pydata.org/examples/) and [API documentation](https://seaborn.pydata.org/api.html) are a great place to find styling options. And for both `seaborn` and `pandas` there is a wealth of information that you can find by looking up \"how to do X with Y\" on [StackOverflow](https://stackoverflow.com/) (replacing X with what you want to do, and Y with `pandas` or `seaborn`). If you want to change your plot in some way not covered in this brief tutorial, and don't already know what function you need to do it, searching like this is the most efficient way of finding it."
   ]
  },
  {
   "cell_type": "code",
   "execution_count": null,
   "metadata": {
    "_cell_guid": "32e4ed87-b33c-4fcc-94bd-489bf7ba52db",
    "_uuid": "b4a6254a0222bdaa59461d2197ed169424412ceb"
   },
   "outputs": [],
   "source": [
    "import pandas as pd\n",
    "reviews = pd.read_csv(\"../data_collection/wine-reviews/winemag-data_first150k.csv\", index_col=0)\n",
    "reviews.head(3)"
   ]
  },
  {
   "cell_type": "markdown",
   "metadata": {
    "_cell_guid": "06965bb1-79bd-41e1-80b7-b53a5483ad4b",
    "_uuid": "e1eaac351ba2d3be32fe918411427ecce1385751"
   },
   "source": [
    "## Points on style\n",
    "\n",
    "Recall our bar plot from earlier:"
   ]
  },
  {
   "cell_type": "code",
   "execution_count": null,
   "metadata": {
    "_cell_guid": "807f652e-aee6-4eaa-87d3-bcfca78dc28b",
    "_uuid": "96b86c77d2b1a7a8606b9db86520ed956e192923"
   },
   "outputs": [],
   "source": [
    "reviews['points'].value_counts().sort_index().plot.bar()"
   ]
  },
  {
   "cell_type": "markdown",
   "metadata": {
    "_cell_guid": "cd16b490-72cb-429d-b0ab-58e7754d2c98",
    "_uuid": "9e9569862ee66b0232e9ddd339a2a5904d5fcd4f"
   },
   "source": [
    "Throughout this section we're going to work on making this plot look nicer.\n",
    "\n",
    "This plot is kind of hard to see. So make it bigger! We can use the `figsize` parameter to do that."
   ]
  },
  {
   "cell_type": "code",
   "execution_count": null,
   "metadata": {
    "_cell_guid": "37b41263-97f5-489c-baef-4a31b190fffe",
    "_uuid": "64d018c8e3e5abe978d62e752b7acaa392bbf13f"
   },
   "outputs": [],
   "source": [
    "reviews['points'].value_counts().sort_index().plot.bar(figsize=(12, 6))"
   ]
  },
  {
   "cell_type": "markdown",
   "metadata": {
    "_cell_guid": "bd3e5019-d2eb-4882-8d1c-9789beb8a36a",
    "_uuid": "9c29168014acdf596fb65b898e7aa1dce25cc55f"
   },
   "source": [
    "`figsize` controls the size of the image, in inches. It expects a tuple of `(width, height)` values.\n",
    "\n",
    "Next, we can change the color of the bars to be more thematic, using the `color` parameter."
   ]
  },
  {
   "cell_type": "code",
   "execution_count": null,
   "metadata": {
    "_cell_guid": "0e280992-ea89-424b-86e9-2b716bc95ddd",
    "_uuid": "28f8359400c03e113f60d5baa4e3a5ff902c458d"
   },
   "outputs": [],
   "source": [
    "reviews['points'].value_counts().sort_index().plot.bar(\n",
    "    figsize=(12, 6),\n",
    "    color='mediumvioletred'\n",
    ")"
   ]
  },
  {
   "cell_type": "markdown",
   "metadata": {
    "_cell_guid": "964885a1-5628-4563-86d2-4d44a5edb8c8",
    "_uuid": "699c6dfc76360ad2e93e8312983d44f1227c778a"
   },
   "source": [
    "The text labels are very hard to read at this size. They fit the plot when our plot was very small, but now that the plot is much bigger we need much bigger labels. We can used `fontsize` to adjust this."
   ]
  },
  {
   "cell_type": "code",
   "execution_count": null,
   "metadata": {
    "_cell_guid": "cbdb5680-67a2-49f2-afa4-6e159ed379f4",
    "_uuid": "974cf03e34a5fc78c2e9e42c8f43a4500bb98caf"
   },
   "outputs": [],
   "source": [
    "reviews['points'].value_counts().sort_index().plot.bar(\n",
    "    figsize=(12, 6),\n",
    "    color='mediumvioletred',\n",
    "    fontsize=16\n",
    ")"
   ]
  },
  {
   "cell_type": "markdown",
   "metadata": {
    "_cell_guid": "256468a2-b898-44f0-9833-391213f592dc",
    "_uuid": "9282960b01450ed999432328e947c1be09bc6076"
   },
   "source": [
    "We also need a `title`."
   ]
  },
  {
   "cell_type": "code",
   "execution_count": null,
   "metadata": {
    "_cell_guid": "1c09063d-4d75-4823-863c-b901ead440d2",
    "_uuid": "c83069109591a092ef997bbc3f40d4126abcb799"
   },
   "outputs": [],
   "source": [
    "reviews['points'].value_counts().sort_index().plot.bar(\n",
    "    figsize=(12, 6),\n",
    "    color='mediumvioletred',\n",
    "    fontsize=16,\n",
    "    title='Rankings Given by Wine Magazine',\n",
    ")"
   ]
  },
  {
   "cell_type": "markdown",
   "metadata": {
    "_cell_guid": "c924a4b3-e435-4dbb-946d-a53ffbc970f9",
    "_uuid": "3cb6fcccebff401f7ef5ac4d9675662c5c2b7869"
   },
   "source": [
    "However, this title is too small. Unfortunately, `pandas` doesn't give us an easy way of adjusting the title size.\n",
    "\n",
    "Under the hood, `pandas` data visualization tools are built on top of another, lower-level graphics library called `matplotlib`. Anything that you build in `pandas` can be built using `matplotlib` directly. `pandas` merely make it easier to get that work done.\n",
    "\n",
    "`matplotlib` *does* provide a way of adjusting the title size. Let's go ahead and do it that way, and see what's different:"
   ]
  },
  {
   "cell_type": "code",
   "execution_count": null,
   "metadata": {
    "_cell_guid": "be2cdf9c-2d49-46d8-b5c9-495dcba65295",
    "_uuid": "d2b6293eea8d71f8d98811883f3368573e6611c1"
   },
   "outputs": [],
   "source": [
    "import matplotlib.pyplot as plt\n",
    "\n",
    "ax = reviews['points'].value_counts().sort_index().plot.bar(\n",
    "    figsize=(12, 6),\n",
    "    color='mediumvioletred',\n",
    "    fontsize=16\n",
    ")\n",
    "ax.set_title(\"Rankings Given by Wine Magazine\", fontsize=20)"
   ]
  },
  {
   "cell_type": "markdown",
   "metadata": {
    "_cell_guid": "9c8305e2-c686-4e83-8d82-2d60f8b53771",
    "_uuid": "46168a3e49fd18c75cd1c9401ef16e0b7a37fb22"
   },
   "source": [
    "In the cell immediately above, all we've done is grabbed that object, assigned it to the variable `ax`, and then called `set_title` on `ax`. The `ax.set_title` method makes it easy to change the fontsize; the `title=` keyword parameter in the `pandas` library does not.\n",
    "\n",
    "`seaborn`, covered in a separate section of the tutorial, *also* uses `matplotlib` under the hood. This means that the tricks above work there too. `seaborn` has its own tricks, too&mdash;for example, we can use the very convenient `sns.despine` method to turn off the ugly black border."
   ]
  },
  {
   "cell_type": "code",
   "execution_count": null,
   "metadata": {
    "_cell_guid": "65af37a6-40ef-4fd5-9e55-e41aedf3e972",
    "_uuid": "b8922c6eca6814f8256824be4f269e465e0c068b"
   },
   "outputs": [],
   "source": [
    "import matplotlib.pyplot as plt\n",
    "import seaborn as sns\n",
    "\n",
    "ax = reviews['points'].value_counts().sort_index().plot.bar(\n",
    "    figsize=(12, 6),\n",
    "    color='mediumvioletred',\n",
    "    fontsize=16\n",
    ")\n",
    "ax.set_title(\"Rankings Given by Wine Magazine\", fontsize=20)\n",
    "sns.despine(bottom=True, left=True)"
   ]
  },
  {
   "cell_type": "markdown",
   "metadata": {
    "_cell_guid": "a475bcf7-dc7f-4a21-8b94-93a0da607f9d",
    "_uuid": "08fac7afee5e55cbfa5de857259128ebb53be59c"
   },
   "source": [
    "Prefect. This graph is more clearer than what we started with; it will do a much better job communicating the analysis to our readers.\n",
    "\n",
    "There are many, many more things that you can do than just what we've shown here. Different plots provide different styling options: `color` is almost universal for example, while `s` (size) only makes sense in a scatterplot. For now, the operations we've shown here are enough to get you started."
   ]
  },
  {
   "cell_type": "markdown",
   "metadata": {
    "_cell_guid": "8583b285-4510-4075-9687-73c7ba0cf567",
    "_uuid": "4fde130ee00822263b0168999edbdd03a6ac7853"
   },
   "source": [
    "# Exercises\n"
   ]
  },
  {
   "cell_type": "code",
   "execution_count": null,
   "metadata": {
    "_cell_guid": "c40a5155-2552-420f-b715-f24b7611597b",
    "_uuid": "f78e387475222ae0f8f4f3ac59dd7917cf593f01"
   },
   "outputs": [],
   "source": [
    "import pandas as pd\n",
    "import matplotlib.pyplot as plt\n",
    "import seaborn as sns\n",
    "\n",
    "pokemon = pd.read_csv(\"../data_collection/Pokemon.csv\")\n",
    "pokemon.head(3)"
   ]
  },
  {
   "cell_type": "code",
   "execution_count": null,
   "metadata": {
    "_cell_guid": "3bd2a0ff-2569-48b1-a995-d6d12f488bb4",
    "_kg_hide-input": true,
    "_uuid": "d6457071a66efd371632caf4eda909150f884469"
   },
   "outputs": [],
   "source": [
    "# scatter Defense vs Attack\n",
    "# figsize=(12, 6),\n",
    "# title='Pokemon by Attack and Defense'"
   ]
  },
  {
   "cell_type": "code",
   "execution_count": null,
   "metadata": {
    "_cell_guid": "8957dddf-edc0-4c58-950a-69a361675999",
    "_kg_hide-input": true,
    "_uuid": "2f70aa6dce5738501076ab8dbba4810a5fae419a"
   },
   "outputs": [],
   "source": [
    "# hist of Total,    figsize=(12, 6),    fontsize=14,    bins=50,    color='gray'\n",
    "# title='Pokemon by Stat Total', fontsize=20"
   ]
  },
  {
   "cell_type": "code",
   "execution_count": null,
   "metadata": {
    "_cell_guid": "580c91fe-5b20-4462-9275-1eb3527d2430",
    "_kg_hide-input": true,
    "_uuid": "96bf9c936ee276720097d43a82b907ddd95da273"
   },
   "outputs": [],
   "source": [
    "# repeat but remove the top and right spines from plot(s)."
   ]
  },
  {
   "cell_type": "markdown",
   "metadata": {
    "_cell_guid": "bd3abf1f-8ddd-4eb7-959a-072536272ae3",
    "_uuid": "b31ba3db2ab2771d5400d72742906cb5ed911fc9"
   },
   "source": [
    "# Conclusion\n",
    "\n",
    "In this section of the tutorial, we learned a few simple tricks for making our plots more visually appealing, and hence, more communicative. We also learned that there is another plotting library, `matplotlib`, which lies \"underneath\" the `pandas` data visualization tools, and which we can use to more finely manipulate our plots.\n",
    "\n",
    "In the next section we will learn to compose plots together using a technique called subplotting."
   ]
  },
  {
   "cell_type": "markdown",
   "metadata": {
    "_cell_guid": "477796cc-9a7f-442b-9f56-fe928e10b061",
    "_uuid": "8357bdadb815806c1d665dc56f28f0b477a9fc3a"
   },
   "source": [
    "## Subplots\n",
    "\n",
    "In the previous section, \"Styling your plots\", we set the title of a plot using a bit of `matplotlib` code. We did this by grabbing the underlying \"axis\" and then calling `set_title` on that.\n",
    "\n",
    "In this section we'll explore another `matplotlib`-based stylistic feature: **subplotting**."
   ]
  },
  {
   "cell_type": "code",
   "execution_count": null,
   "metadata": {
    "_cell_guid": "fbbe8d34-9c5b-425c-aa00-c2cb71684a63",
    "_uuid": "5a5a0b9794ba13949c9755bb59c42f2a81bb6621"
   },
   "outputs": [],
   "source": [
    "import pandas as pd\n",
    "reviews = pd.read_csv(\"../data_collection/wine-reviews/winemag-data_first150k.csv\", index_col=0)\n",
    "reviews.head(3)"
   ]
  },
  {
   "cell_type": "markdown",
   "metadata": {
    "_cell_guid": "a79a488a-71ed-49be-b15f-01f9c02a66d4",
    "_uuid": "516cf05f411aa758959f5627543199558e0a64f1"
   },
   "source": [
    "## Subplotting\n",
    "\n",
    "Subplotting is a technique for creating multiple plots that live side-by-side in one overall figure. We can use the `subplots` method to create a figure with multiple subplots. `subplots` takes two arguments. The first one controls the number of *rows*, the second one the number of *columns*."
   ]
  },
  {
   "cell_type": "code",
   "execution_count": null,
   "metadata": {
    "_cell_guid": "27d2a460-c976-4f22-b460-104f63f44626",
    "_uuid": "148575c4803a0fde183c3d0645903dfb9a253107"
   },
   "outputs": [],
   "source": [
    "import matplotlib.pyplot as plt\n",
    "fig, axarr = plt.subplots(2, 1, figsize=(12, 8))"
   ]
  },
  {
   "cell_type": "markdown",
   "metadata": {
    "_cell_guid": "753dd1b1-e44f-4490-a6da-6c710d0afb9e",
    "_uuid": "df8c35d44f7456deb6cc809f091af3a2b764db1d"
   },
   "source": [
    "Since we asked for a `subplots(2, 1)`, we got a figure with two rows and one column.\n",
    "\n",
    "Let's break this down a bit. When `pandas` generates a bar chart, behind the scenes here is what it actually does:\n",
    "\n",
    "1. Generate a new `matplotlib` `Figure` object.\n",
    "2. Create a new `matplotlib` `AxesSubplot` object, and assign it to the `Figure`.\n",
    "3. Use `AxesSubplot` methods to draw the information on the screen.\n",
    "4. Return the result to the user.\n",
    "\n",
    "In a similar way, our `subplots` operation above created one overall `Figure` with two `AxesSubplots` vertically nested inside of it.\n",
    "\n",
    "`subplots` returns two things, a figure (which we assigned to `fig`) and an array of the axes contained therein (which we assigned to `axarr`). Here are the `axarr` contents:"
   ]
  },
  {
   "cell_type": "code",
   "execution_count": null,
   "metadata": {
    "_cell_guid": "12311f94-fd6a-4483-8710-ce019deff76c",
    "_uuid": "f2ffc588b295ebe3f8771828389ca43653ad3dc5"
   },
   "outputs": [],
   "source": [
    "axarr"
   ]
  },
  {
   "cell_type": "markdown",
   "metadata": {
    "_cell_guid": "a0386abf-4911-4505-846b-abf16248b796",
    "_uuid": "6b7c34630a87d79e1467f1728f5844ce2f85f285"
   },
   "source": [
    "To tell `pandas` which subplot we want a new plot to go in&mdash;the first one or the second one&mdash;we need to grab the proper axis out of the list and pass it into `pandas` via the `ax` parameter:"
   ]
  },
  {
   "cell_type": "code",
   "execution_count": null,
   "metadata": {
    "_cell_guid": "b2b0bdbc-897a-4436-91d1-37c60a1a77ba",
    "_uuid": "aedf7693711c0d89d70b4e945c8c77b4b99053ac"
   },
   "outputs": [],
   "source": [
    "fig, axarr = plt.subplots(2, 1, figsize=(12, 8))\n",
    "\n",
    "reviews['points'].value_counts().sort_index().plot.bar(\n",
    "    ax=axarr[0]\n",
    ")\n",
    "\n",
    "reviews['province'].value_counts().head(20).plot.bar(\n",
    "    ax=axarr[1]\n",
    ")"
   ]
  },
  {
   "cell_type": "markdown",
   "metadata": {
    "_cell_guid": "ceda04ac-9d62-467b-9896-39686707848e",
    "_uuid": "8567844f28bebb1c06beb3c9f0ed1d988492b944"
   },
   "source": [
    "We are of course not limited to having only a single row. We can create as many subplots as we want, in whatever configuration we need.\n",
    "\n",
    "For example:"
   ]
  },
  {
   "cell_type": "code",
   "execution_count": null,
   "metadata": {
    "_cell_guid": "e39d66e6-fb91-4e87-bb32-ece061aef1e3",
    "_uuid": "12fb2320aabfd23084a67624abff09c044e6fb35"
   },
   "outputs": [],
   "source": [
    "fig, axarr = plt.subplots(2, 2, figsize=(12, 8))"
   ]
  },
  {
   "cell_type": "markdown",
   "metadata": {
    "_cell_guid": "153c7d59-3983-46f4-848d-0427ea848650",
    "_uuid": "b2d1af4b4b68fb3c7d7dedb9593b3d23e284c0f0"
   },
   "source": [
    "If there are multiple columns *and* multiple rows, as above, the axis array becoming a list of lists:"
   ]
  },
  {
   "cell_type": "code",
   "execution_count": null,
   "metadata": {
    "_cell_guid": "80c1089c-bf26-49c7-bdf1-ec77476a1095",
    "_uuid": "51d60155336bb70f3eb941895272e9535a9f429b"
   },
   "outputs": [],
   "source": [
    "axarr"
   ]
  },
  {
   "cell_type": "markdown",
   "metadata": {
    "_cell_guid": "f4dd0de4-4943-4665-b8e3-ff79d1bc8ace",
    "_uuid": "5a616c524859f4ecc0901b3b722da0fc9979a3c3"
   },
   "source": [
    "That means that to plot our data from earlier, we now need a row number, then a column number."
   ]
  },
  {
   "cell_type": "code",
   "execution_count": null,
   "metadata": {
    "_cell_guid": "b73ac778-b2fc-4be5-9461-a3a2b561abae",
    "_uuid": "18600b6237c70d986f912b6c562ef4c665341a71"
   },
   "outputs": [],
   "source": [
    "fig, axarr = plt.subplots(2, 2, figsize=(12, 8))\n",
    "\n",
    "reviews['points'].value_counts().sort_index().plot.bar(\n",
    "    ax=axarr[0][0]\n",
    ")\n",
    "\n",
    "reviews['province'].value_counts().head(20).plot.bar(\n",
    "    ax=axarr[1][1]\n",
    ")"
   ]
  },
  {
   "cell_type": "markdown",
   "metadata": {
    "_cell_guid": "1b4994b6-e4b1-4099-a94e-7a7945c165fb",
    "_uuid": "1e2312379cae422a28b73994ef0060dbd7fdd079"
   },
   "source": [
    "Notice that the bar plot of wines by point counts is in the first row and first column (the `[0][0]` position), while the bar plot of wines by origin is in the second row and second column (`[1][1]`).\n",
    "\n",
    "By combining subplots with the styles we learned in the last section, we can create appealing-looking panel displays."
   ]
  },
  {
   "cell_type": "code",
   "execution_count": null,
   "metadata": {
    "_cell_guid": "e66b1c6c-3190-4c75-9ab8-95c93454127f",
    "_uuid": "92a2d6d249e681f102131a1fbe89efc622ce2c93"
   },
   "outputs": [],
   "source": [
    "fig, axarr = plt.subplots(2, 2, figsize=(12, 8))\n",
    "\n",
    "reviews['points'].value_counts().sort_index().plot.bar(\n",
    "    ax=axarr[0][0], fontsize=12, color='mediumvioletred'\n",
    ")\n",
    "axarr[0][0].set_title(\"Wine Scores\", fontsize=18)\n",
    "\n",
    "reviews['variety'].value_counts().head(20).plot.bar(\n",
    "    ax=axarr[1][0], fontsize=12, color='mediumvioletred'\n",
    ")\n",
    "axarr[1][0].set_title(\"Wine Varieties\", fontsize=18)\n",
    "\n",
    "reviews['province'].value_counts().head(20).plot.bar(\n",
    "    ax=axarr[1][1], fontsize=12, color='mediumvioletred'\n",
    ")\n",
    "axarr[1][1].set_title(\"Wine Origins\", fontsize=18)\n",
    "\n",
    "reviews['price'].value_counts().plot.hist(\n",
    "    ax=axarr[0][1], fontsize=12, color='mediumvioletred'\n",
    ")\n",
    "axarr[0][1].set_title(\"Wine Prices\", fontsize=18)\n",
    "\n",
    "plt.subplots_adjust(hspace=.3)\n",
    "\n",
    "import seaborn as sns\n",
    "sns.despine()"
   ]
  },
  {
   "cell_type": "markdown",
   "metadata": {
    "_cell_guid": "09a6812c-c32f-4e68-81a4-ee831d0cf4ef",
    "_uuid": "bececebb0644f2d291f025372d48ce35214d6070"
   },
   "source": [
    "# Why subplot?\n",
    "\n",
    "Why are subplots useful?\n",
    "\n",
    "Oftentimes as a part of the exploratory data visualization process you will find yourself creating a large number of smaller charts probing one or a few specific aspects of the data. For example, suppose we're interested in comparing the scores for relatively common wines with those for relatively rare ones. In these cases, it makes logical sense to combine the two plots we would produce into one visual \"unit\" for analysis and discussion.\n",
    "\n",
    "When we combine subplots with the style attributes we explored in the previous notebook, this technique allows us to create extremely attractive and informative panel displays.\n",
    "\n",
    "Finally, subplots are critically useful because they enable **faceting**. Faceting is the act of breaking data variables up across multiple subplots, and combining those subplots into a single figure. So instead of one bar chart, we might have, say, four, arranged together in a grid.\n",
    "\n",
    "The recommended way to perform faceting is to use the `seaborn` `FacetGrid` facility. This feature is explored in a separate section of this tutorial.\n",
    "\n",
    "# Exercises\n",
    "\n",
    "Let's test ourselves by answering some questions about the plots we've used in this section. Once you have your answers, click on \"Output\" button below to show the correct answers.\n",
    "\n",
    "1. A `matplotlib` plot consists of a single X composed of one or more Y. What are X and Y?\n",
    "2. The `subplots` function takes which two parameters as input?\n",
    "3. The `subplots` function returns what two variables? "
   ]
  },
  {
   "cell_type": "code",
   "execution_count": null,
   "metadata": {
    "_cell_guid": "1f7ad95b-574f-471c-84f9-3ab3108b12a4",
    "_kg_hide-input": true,
    "_kg_hide-output": true,
    "_uuid": "10d8dd9f02ca749ee91529c36d33c2b2d8528b0d"
   },
   "outputs": [],
   "source": [
    "from IPython.display import HTML\n",
    "HTML(\"\"\"\n",
    "<ol>\n",
    "<li>The plot consists of one overall figure composed of one or more axes.</li>\n",
    "<li>The subplots function takes the number of rows as the first parameter, and the number of columns as the second.</li>\n",
    "<li>The subplots function returns a figure and an array of axes.</li>\n",
    "</ol>\n",
    "\"\"\")"
   ]
  },
  {
   "cell_type": "code",
   "execution_count": null,
   "metadata": {
    "_cell_guid": "111d54f4-ead5-48aa-9685-37225d3e60ff",
    "_uuid": "4c9402a6985cd16b157995f7650d796d35608d2c"
   },
   "outputs": [],
   "source": [
    "import pandas as pd\n",
    "import matplotlib.pyplot as plt\n",
    "pokemon = pd.read_csv(\"../data_collection/Pokemon.csv\")\n",
    "pokemon.head(3)"
   ]
  },
  {
   "cell_type": "markdown",
   "metadata": {
    "_cell_guid": "0d50dd36-ffff-4c4b-9f39-c1cce30bb463",
    "_uuid": "4299993492a455851c533a801b36a5173fed9c77"
   },
   "source": [
    "(Hint: use `figsize=(8, 8)`)"
   ]
  },
  {
   "cell_type": "code",
   "execution_count": null,
   "metadata": {
    "_cell_guid": "3d017500-f37c-4c90-bb54-04df6155d760",
    "_kg_hide-input": true,
    "_kg_hide-output": false,
    "_uuid": "d7d6514f2d6b62c0afb629290a4bacd81af33a78"
   },
   "outputs": [],
   "source": [
    "# two empty subplots with figsize=(8, 8)"
   ]
  },
  {
   "cell_type": "code",
   "execution_count": null,
   "metadata": {
    "_cell_guid": "f862b3a9-015e-4bbb-8712-e8da1843e7f4",
    "_kg_hide-input": true,
    "_uuid": "b663d346286a8bc55a9c559aaefc215c400ce429"
   },
   "outputs": [],
   "source": [
    "# two hists using subplots: 1. Attach, 2. Defense figsize=(8, 8)"
   ]
  },
  {
   "cell_type": "markdown",
   "metadata": {
    "_cell_guid": "d95b484e-2c26-485b-8085-eeff1d505a80",
    "_uuid": "6ddf98bbe43f2e9674e14f1fcbb8672a027ba6f2"
   },
   "source": [
    "# Conclusion\n",
    "\n",
    "In the previous section we explored some `pandas`/`matplotlib` style parameters. In this section, we dove a little deeper still by exploring subplots.\n",
    "\n",
    "Together these two sections conclude our primer on style. Hopefully our plots will now be more legible and informative.\n",
    "\n",
    "[Click here to go to the next section, \"Plotting with seaborn\"](https://www.kaggle.com/residentmario/plotting-with-seaborn)."
   ]
  },
  {
   "cell_type": "markdown",
   "metadata": {
    "_cell_guid": "38b8db4c-7e28-4c7b-8079-d6a633025be3",
    "_uuid": "4f61bee808da4c7d72017ebe6a5348e10499695f"
   },
   "source": [
    "# Plotting with seaborn\n",
    "\n",
    "<table>\n",
    "<tr>\n",
    "<td><img src=\"https://i.imgur.com/3cYy56H.png\" width=\"350px\"/></td>\n",
    "<td><img src=\"https://i.imgur.com/V9jAreo.png\" width=\"350px\"/></td>\n",
    "<td><img src=\"https://i.imgur.com/5a6dwtm.png\" width=\"350px\"/></td>\n",
    "<td><img src=\"https://i.imgur.com/ZSsHzrA.png\" width=\"350px\"/></td>\n",
    "</tr>\n",
    "<tr>\n",
    "<td style=\"font-weight:bold; font-size:16px;\">Count (Bar) Plot</td>\n",
    "<td style=\"font-weight:bold; font-size:16px;\">KDE Plot</td>\n",
    "<td style=\"font-weight:bold; font-size:16px;\">Joint (Hex) Plot</td>\n",
    "<td style=\"font-weight:bold; font-size:16px;\">Violin Plot</td>\n",
    "</tr>\n",
    "<tr>\n",
    "<td>sns.countplot()</td>\n",
    "<td>sns.kdeplot()</td>\n",
    "<td>sns.jointplot()</td>\n",
    "<td>sns.violinplot()</td>\n",
    "</tr>\n",
    "<tr>\n",
    "<td>Good for nominal and small ordinal categorical data.</td>\n",
    "<td>Good for interval data.</td>\n",
    "<td>Good for interval and some nominal categorical data.</td>\n",
    "<td>Good for interval data and some nominal categorical data.</td>\n",
    "</tr>\n",
    "</table>\n",
    "\n",
    "----\n",
    "\n",
    "In the previous two sections we explored data visualization using the `pandas` built-in plotting tools. In this section, we'll do the same with `seaborn`.\n",
    "\n",
    "`seaborn` is a standalone data visualization package that provides many extremely valuable data visualizations in a single package. It is generally a much more powerful tool than `pandas`; let's see why."
   ]
  },
  {
   "cell_type": "code",
   "execution_count": null,
   "metadata": {
    "_cell_guid": "dc06ff32-9804-49ed-b76a-5076774adb8b",
    "_uuid": "3e6df9a405b1c795d8b18401eab8b1bf64d4cb8c"
   },
   "outputs": [],
   "source": [
    "import pandas as pd\n",
    "reviews = pd.read_csv(\"../data_collection/wine-reviews/winemag-data_first150k.csv\", index_col=0)\n",
    "import seaborn as sns\n",
    "\n",
    "reviews.head()"
   ]
  },
  {
   "cell_type": "markdown",
   "metadata": {
    "_cell_guid": "9397fd15-d742-41f3-9209-5b17a33ea3b7",
    "_uuid": "58ea16434bcf678af906dd3c8e2b1a2b51c54345"
   },
   "source": [
    "## Countplot\n",
    "\n",
    "The `pandas` bar chart becomes a `seaborn` `countplot`."
   ]
  },
  {
   "cell_type": "code",
   "execution_count": null,
   "metadata": {
    "_cell_guid": "0ffc5715-142b-4bd7-a4b6-8f1811e613c0",
    "_uuid": "0e8836597f86822908b6a10f08296bed46a80483"
   },
   "outputs": [],
   "source": [
    "sns.countplot(reviews['points'])"
   ]
  },
  {
   "cell_type": "markdown",
   "metadata": {
    "_cell_guid": "3efba799-aa2f-4ebf-af8a-e91064661d21",
    "_uuid": "8207ca9c7173fc6517db698fc46e6c11134affcf"
   },
   "source": [
    "Comparing this chart with the bar chart from two notebooks ago, we find that, unlike `pandas`, `seaborn` doesn't require us to shape the data for it via `value_counts`; the `countplot` (true to its name) aggregates the data for us!\n",
    "\n",
    "`seaborn` doesn't have a direct analogue to the line or area chart. Instead, the package provides a `kdeplot`:"
   ]
  },
  {
   "cell_type": "markdown",
   "metadata": {
    "_cell_guid": "56482637-9022-48da-b99e-a7536e53a55f",
    "_uuid": "ef56a55e6a5ab98c7a0c1ec01892be7351daa81b"
   },
   "source": [
    "## KDE Plot"
   ]
  },
  {
   "cell_type": "code",
   "execution_count": null,
   "metadata": {
    "_cell_guid": "fcdc8bb0-a4be-475b-94d8-469b1d752c09",
    "_uuid": "e41c6e54ed366b6c79e5be1360d7648d4db98c81"
   },
   "outputs": [],
   "source": [
    "sns.kdeplot(reviews.query('price < 200').price)"
   ]
  },
  {
   "cell_type": "markdown",
   "metadata": {
    "_cell_guid": "d4e2d513-7d16-497f-87a2-84ab36d1c3c4",
    "_uuid": "ef5fa23c8a444ebf40ec40e378a726fb4209c2ef"
   },
   "source": [
    "KDE, short for \"kernel density estimate\", is a statistical technique for smoothing out data noise. It addresses an important fundamental weakness of a line chart: it will buff out outlier or \"in-betweener\" values which would cause a line chart to suddenly dip.\n",
    "\n",
    "For example, suppose that there was just one wine priced 19.93\\$, but several hundred prices 20.00\\$. If we were to plot the value counts in a line chart, our line would dip very suddenly down to 1 and then back up to around 1000 again, creating a strangely \"jagged\" line. The line chart with the same data, shown below for the purposes of comparison, has exactly this problem!\n",
    "\n",
    "Note that the x xais is a `seaborn` `kdeplot` is the variable being plotted (in this case, `price`), while the y axis is how often it occurs. "
   ]
  },
  {
   "cell_type": "code",
   "execution_count": null,
   "metadata": {
    "_cell_guid": "88c9485f-5f60-48db-a23f-3b237e433553",
    "_uuid": "89d919218ca76b700a276fbd8826de131e3ebab0"
   },
   "outputs": [],
   "source": [
    "reviews[reviews['price'] < 200]['price'].value_counts().sort_index().plot.line()"
   ]
  },
  {
   "cell_type": "markdown",
   "metadata": {
    "_cell_guid": "31111f7a-c16f-4847-ad72-195b9aaf81b8",
    "_uuid": "41f40c60d5821b078d33905592e56db921e1a789"
   },
   "source": [
    "A KDE plot is better than a line chart for getting the \"true shape\" of interval data. In fact, I recommend always using it instead of a line chart for such data.\n",
    "\n",
    "However, it's a worse choice for ordinal categorical data. A KDE plot expects that if there are 200 wine rated 85 and 400 rated 86, then the values in between, like 85.5, should smooth out to somewhere in between (say, 300). However, if the value in between can't occur (wine ratings of 85.5 are not allowed), then the KDE plot is fitting to something that doesn't exist. In these cases, use a line chart instead.\n",
    "\n",
    "KDE plots can also be used in two dimensions."
   ]
  },
  {
   "cell_type": "code",
   "execution_count": null,
   "metadata": {
    "_cell_guid": "047332b2-bdff-4a46-a9fe-8a673c30c5c1",
    "_uuid": "2ee4987ede1d583dda57d5c09ad5fe9057f0723d"
   },
   "outputs": [],
   "source": [
    "sns.kdeplot(reviews[reviews['price'] < 200].loc[:, ['price', 'points']].dropna().sample(5000))"
   ]
  },
  {
   "cell_type": "markdown",
   "metadata": {
    "_cell_guid": "35d53cb7-fce4-44bb-a529-84e780ced888",
    "_uuid": "c0c76d49e572f430aac62cb4d4e2f39615a6bc0b"
   },
   "source": [
    "Bivariate KDE plots like this one are a great alternative to scatter plots and hex plots. They solve the same data overplotting issue that scatter plots suffer from and hex plots address, in a different but similarly visually appealing. However, note that bivariate KDE plots are very computationally intensive. We took a sample of 5000 points in this example to keep compute time reasonable."
   ]
  },
  {
   "cell_type": "markdown",
   "metadata": {
    "_cell_guid": "437a0051-1ea2-48c6-afb0-746be27d81d3",
    "_uuid": "febe6f453d21aefa958873c2b2f31f648af96481"
   },
   "source": [
    "## Distplot\n",
    "\n",
    "The `seaborn` equivalent to a `pandas` histogram is the `distplot`. Here's an example:"
   ]
  },
  {
   "cell_type": "code",
   "execution_count": null,
   "metadata": {
    "_cell_guid": "6e45384f-cf4c-46e5-8ee2-a47f199ec4b1",
    "_uuid": "2fb9fa2ac02895f84c0b07d2bec710f133e7a993"
   },
   "outputs": [],
   "source": [
    "sns.distplot(reviews['points'], bins=10, kde=False)"
   ]
  },
  {
   "cell_type": "markdown",
   "metadata": {
    "_cell_guid": "f0639d7e-f08c-42f4-baca-e4226e4df863",
    "_uuid": "73f53b37ee47f27575a23c62bcf418a57ffe2f09"
   },
   "source": [
    "The `distplot` is a composite plot type. In the example above we've turned off the `kde` that's included by default, and manually set the number of bins to 10 (two possible ratings per bin), to get a clearer picture."
   ]
  },
  {
   "cell_type": "markdown",
   "metadata": {
    "_cell_guid": "c35f185c-1be3-47dd-8bb9-1d10e5699d9c",
    "_uuid": "84569d191b8e65dd291d984c793dddb5d0fd3f6b"
   },
   "source": [
    "## Scatterplot and hexplot"
   ]
  },
  {
   "cell_type": "markdown",
   "metadata": {
    "_cell_guid": "020f4f72-9edc-436b-a1df-15b6df4a1a46",
    "_uuid": "7d890d0dbb68ebceb3ac48442c5c3cac8a3ddb13"
   },
   "source": [
    "To plot two variables against one another in `seaborn`, we use `jointplot`."
   ]
  },
  {
   "cell_type": "code",
   "execution_count": null,
   "metadata": {
    "_cell_guid": "6d6f9edf-4cc8-4aa4-8193-896e8ab712a0",
    "_uuid": "33dea6ec448556990f191a1abd92f5935160e1e7"
   },
   "outputs": [],
   "source": [
    "sns.jointplot(x='price', y='points', data=reviews[reviews['price'] < 100])"
   ]
  },
  {
   "cell_type": "markdown",
   "metadata": {
    "_cell_guid": "e52d9f24-64a5-4235-ae24-cbb535ebda94",
    "_uuid": "b576254a3f92026955c123c465a337e42610af21"
   },
   "source": [
    "Notice that this plot comes with some bells and whistles: a correlation coefficient is provided, along with histograms on the sides. These kinds of composite plots are a recurring theme in `seaborn`. Other than that, the `jointplot` is just like the `pandas` scatter plot.\n",
    "\n",
    "As in `pandas`, we can use a hex plot (by simply passing `kind='hex'`) to deal with overplotting:"
   ]
  },
  {
   "cell_type": "code",
   "execution_count": null,
   "metadata": {
    "_cell_guid": "59713edb-16a3-4511-b61a-45716e8acf70",
    "_uuid": "a9c79f960286c9a2d85edac768401474bf3f441a"
   },
   "outputs": [],
   "source": [
    "sns.jointplot(x='price', y='points', data=reviews[reviews['price'] < 100], kind='hex', \n",
    "              gridsize=20)"
   ]
  },
  {
   "cell_type": "markdown",
   "metadata": {
    "_cell_guid": "65121cde-56ed-40a9-8221-ba18a8741158",
    "_uuid": "445e536d348d4746b092981a944bc664cd7d0c76"
   },
   "source": [
    "## Boxplot and violin plot\n",
    "\n",
    "`seaborn` provides a boxplot function. It creates a statistically useful plot that looks like this:"
   ]
  },
  {
   "cell_type": "code",
   "execution_count": null,
   "metadata": {
    "_cell_guid": "46e57167-2d55-405e-9cf5-e7d4f6ec9224",
    "_uuid": "518f21f75c0bef67b685379e95deed90e4b6037e"
   },
   "outputs": [],
   "source": [
    "df = reviews[reviews.variety.isin(reviews.variety.value_counts().head(5).index)]\n",
    "\n",
    "sns.boxplot(\n",
    "    x='variety',\n",
    "    y='points',\n",
    "    data=df)"
   ]
  },
  {
   "cell_type": "markdown",
   "metadata": {
    "_cell_guid": "3f2d2928-05a7-4796-8d77-bbf039cfd8c8",
    "_uuid": "0aee5e04c60e8c432b6630114305c78403859ca7"
   },
   "source": [
    "The center of the distributions shown above is the \"box\" in boxplot. The top of the box is the 75th percentile, while the bottom is the 25th percentile. In other words, half of the data is distributed within the box! The green line in the middle is the median.\n",
    "\n",
    "The other part of the plot, the \"whiskers\", shows the extent of the points beyond the center of the distribution. Individual circles beyond *that* are outliers.\n",
    "\n",
    "This boxplot shows us that although all five wines recieve broadly similar ratings, Bordeaux-style wines tend to be rated a little higher than a Chardonnay.\n",
    "\n",
    "Boxplots are great for summarizing the shape of many datasets. They also don't have a limit in terms of numeracy: you can place as many boxes in the plot as you feel comfortable squeezing onto the page.\n",
    "\n",
    "However, they only work for interval variables and nominal variables with a large number of possible values; they assume your data is roughly normally distributed (otherwise their design doesn't make much sense); and they don't carry any information about individual values, only treating the distribution as a whole.\n",
    "\n",
    "I find the slightly more advanced `violinplot` to be more visually enticing, in most cases:"
   ]
  },
  {
   "cell_type": "code",
   "execution_count": null,
   "metadata": {
    "_cell_guid": "0c88d116-c1ca-4240-873d-d58f4f10b7ab",
    "_uuid": "6e972117854b4398fb8873eb25fab41a7c7d8b33",
    "scrolled": false
   },
   "outputs": [],
   "source": [
    "sns.violinplot(\n",
    "    x='variety',\n",
    "    y='points',\n",
    "    data=reviews[reviews.variety.isin(reviews.variety.value_counts()[:5].index)]\n",
    ")"
   ]
  },
  {
   "cell_type": "markdown",
   "metadata": {
    "_cell_guid": "1017c1be-745c-405a-bd7f-62c06ae70ab8",
    "_uuid": "a32780a72c2d5ee1b2998c31dd34f80016fb5cb7"
   },
   "source": [
    "A `violinplot` cleverly replaces the box in the boxplot with a kernel density estimate for the data. It shows basically the same data, but is harder to misinterpret and much prettier than the utilitarian boxplot."
   ]
  },
  {
   "cell_type": "markdown",
   "metadata": {
    "_cell_guid": "b9e4770d-8d21-42bc-8462-1efafb4e94cf",
    "_uuid": "b57fa929a624c7679af8c2e792703fc491dc746f"
   },
   "source": [
    "## Why seaborn?\n",
    "\n",
    "Having now seen both `pandas` plotting and the `seaborn` library in action, we are now in a position to compare the two and decide when to use which for what.\n",
    "\n",
    "Recall the data we've been working with in this tutorial is in:"
   ]
  },
  {
   "cell_type": "code",
   "execution_count": null,
   "metadata": {
    "_cell_guid": "487d140a-1046-406e-9fd8-b1b040b9f8d8",
    "_uuid": "b786b6567d641ac84d16257510e7cfaf28aa6c4f"
   },
   "outputs": [],
   "source": [
    "reviews.head()"
   ]
  },
  {
   "cell_type": "markdown",
   "metadata": {
    "_cell_guid": "1b3b2bd3-e60c-4181-b23b-45bfd984a307",
    "_uuid": "872af24634858957b7cd62e2add0c6306047d5e8"
   },
   "source": [
    "This data is in a \"record-oriented\" format. Each individual row is a single record (a review); in aggregate, the list of all rows is the list of all records (all reviews). This is the format of choice for the most kinds of data: data corresponding with individual, unit-identifiable \"things\" (\"records\"). The majority of the simple data that gets generated is created in this format, and data that isn't can almost always be converted over. This is known as a \"tidy data\" format.\n",
    "\n",
    "`seaborn` is designed to work with this kind of data out-of-the-box, for all of its plot types, with minimal fuss. This makes it an incredibly convenient workbench tool.\n",
    "\n",
    "`pandas` is not designed this way. In `pandas`, every plot we generate is tied very directly to the input data. In essence, `pandas` expects your data being in exactly the right *output* shape, regardless of what the input is.\n",
    "\n",
    "<!--\n",
    "In the previous section of this tutorial, we purposely evaded this issue by using supplemental datasets in a \"just right\" shape. Starting from the data that we already have, here's what it would take to generate a simple histogram:\n",
    "\n",
    "```python\n",
    "import numpy as np\n",
    "top_five_wines_scores = (\n",
    "    reviews\n",
    "        .loc[np.where(reviews.variety.isin(reviews.variety.value_counts().head(5).index))]\n",
    "        .loc[:, ['variety', 'points']]\n",
    "        .groupby('variety')\n",
    "        .apply(lambda df: pd.Series(df.points.values))\n",
    "        .unstack()\n",
    "        .T\n",
    ")\n",
    "top_five_wines_scores.plot.hist()\n",
    "```\n",
    "\n",
    "As we demonstrated above, to do the same thing in `seaborn`, all we need is:\n",
    "\n",
    "```python\n",
    "sns.distplot(reviews.points, bins=10, kde=False)\n",
    "```\n",
    "\n",
    "The difference is stark!\n",
    "-->\n",
    "\n",
    "Hence, in practice, despite its simplicity, the `pandas` plotting tools are great for the initial stages of exploratory data analytics, but `seaborn` really becomes your tool of choice once you start doing more sophisticated explorations.\n",
    "\n",
    "<!--\n",
    "My recommendations are:\n",
    "* Bar plot: \n",
    "  * `pd.Series.plot.bar`\n",
    "  * `sns.countplot`\n",
    "* Scatter plot:\n",
    "  * `pd.Series.plot.scatter`\n",
    "  * `sns.jointplot`\n",
    "* Hex plot:\n",
    "  * `pd.Series.plot.hex`\n",
    "  * `sns.jointplot`\n",
    "* Line/KDE plot:\n",
    "  * `pd.Series.plot.line` for nominal categorical variables\n",
    "  * `sns.kdeplot` for interval variables\n",
    "* Box/Violin plot:\n",
    "  * `sns.boxplot`\n",
    "  * `sns.violinplot`\n",
    "* Histogram:\n",
    "   * `sns.distplot`\n",
    "-->"
   ]
  },
  {
   "cell_type": "markdown",
   "metadata": {
    "_cell_guid": "7e175119-20cd-49b3-8119-fe09d4771c36",
    "_uuid": "e9372bfddfbed428c0faaa3dc5786514a67f335f"
   },
   "source": [
    "# Examples\n",
    "\n",
    "As in previous notebooks, let's now test ourselves by answering some questions about the plots we've used in this section. Once you have your answers, click on \"Output\" button below to show the correct answers.\n",
    "\n",
    "1. A `seaborn` `countplot` is equivalent to what in `pandas`?\n",
    "2. A `seaborn` `jointplot` which is configured with `kind='hex'` is equivalent to a what in `pandas`?\n",
    "3. Why might a `kdeplot` not work very well for ordinal categorical data?\n",
    "4. What does the \"box\" in a `boxplot` represent?"
   ]
  },
  {
   "cell_type": "code",
   "execution_count": null,
   "metadata": {
    "_cell_guid": "8a2e2e47-e8dc-47bf-bae2-29b3677118b5",
    "_kg_hide-input": true,
    "_kg_hide-output": true,
    "_uuid": "7bfca747756a4e6ebb5b2211d1d8ef8ecf789bfc"
   },
   "outputs": [],
   "source": [
    "from IPython.display import HTML\n",
    "HTML(\"\"\"\n",
    "<ol>\n",
    "<li>A seaborn countplot is like a pandas bar plot.</li>\n",
    "<li>A seaborn jointplot is like a pandas hex plot.</li>\n",
    "<li>KDEPlots work by aggregating data into a smooth curve. This is great for interval data but doesn't always work quite as well for ordinal categorical data.</li>\n",
    "<li>The top of the box is the 75th percentile. The bottom of the box is the 25th percentile. The median, the 50th percentile, is the line in the center of the box. So 50% of the data in the distribution is located within the box!</li>\n",
    "</ol>\n",
    "\"\"\")"
   ]
  },
  {
   "cell_type": "code",
   "execution_count": null,
   "metadata": {
    "_cell_guid": "ac1be017-3896-475b-98e7-eb90cef98c2a",
    "_uuid": "fbb3a01f209e864d91faa6c625af2bc8ce80b031"
   },
   "outputs": [],
   "source": [
    "pokemon = pd.read_csv(\"../data_collection/Pokemon.csv\", index_col=0)\n",
    "pokemon.head()"
   ]
  },
  {
   "cell_type": "markdown",
   "metadata": {
    "_cell_guid": "89317f1f-f0c4-4a02-bfa7-d8ca0bf7e183",
    "_uuid": "f83cdf2f6443afc0ce6b9db8a904a300c4482d5c"
   },
   "source": [
    "And now, can you replicate the plots in the pictures?"
   ]
  },
  {
   "cell_type": "markdown",
   "metadata": {},
   "source": [
    "<img src=\"images/60.png\">"
   ]
  },
  {
   "cell_type": "code",
   "execution_count": null,
   "metadata": {},
   "outputs": [],
   "source": []
  },
  {
   "cell_type": "markdown",
   "metadata": {
    "_cell_guid": "895001a2-78c7-4295-a21f-2cbca456c5ce",
    "_kg_hide-input": true,
    "_uuid": "46e2d301ac9cbb290890ff9433a0cdb662c87df7",
    "tags": [
     "hidecode"
    ]
   },
   "source": [
    "<img src=\"images/61.png\">"
   ]
  },
  {
   "cell_type": "code",
   "execution_count": null,
   "metadata": {},
   "outputs": [],
   "source": []
  },
  {
   "cell_type": "markdown",
   "metadata": {},
   "source": [
    "<img src=\"images/62.png\">"
   ]
  },
  {
   "cell_type": "code",
   "execution_count": null,
   "metadata": {},
   "outputs": [],
   "source": []
  },
  {
   "cell_type": "markdown",
   "metadata": {},
   "source": [
    "<img src=\"images/63.png\">"
   ]
  },
  {
   "cell_type": "code",
   "execution_count": null,
   "metadata": {},
   "outputs": [],
   "source": []
  },
  {
   "cell_type": "markdown",
   "metadata": {},
   "source": [
    "<img src=\"images/64.png\">"
   ]
  },
  {
   "cell_type": "code",
   "execution_count": null,
   "metadata": {},
   "outputs": [],
   "source": []
  },
  {
   "cell_type": "markdown",
   "metadata": {},
   "source": [
    "<img src=\"images/65.png\">"
   ]
  },
  {
   "cell_type": "code",
   "execution_count": null,
   "metadata": {},
   "outputs": [],
   "source": []
  },
  {
   "cell_type": "markdown",
   "metadata": {},
   "source": [
    "<img src=\"images/66.png\">"
   ]
  },
  {
   "cell_type": "code",
   "execution_count": null,
   "metadata": {},
   "outputs": [],
   "source": []
  },
  {
   "cell_type": "markdown",
   "metadata": {
    "_cell_guid": "a4dd72b3-2369-43f2-8187-e3013825ea88",
    "_uuid": "36c5658d25fed1256b3f868e23e448c0661ba234"
   },
   "source": [
    "## Conclusion\n",
    "\n",
    "`seaborn` is one of the most important, if not *the* most important, data visualization tool in the Python data viz ecosystem. In this notebook we looked at what features and capacities `seaborn` brings to the table. There's plenty more that you can do with the library that we won't cover here or elsewhere in the tutorial; I highly recommend browsing the terrific `seaborn` [Gallery page](https://seaborn.pydata.org/examples/index.html) to see more beautiful examples of the library in action.\n",
    "\n",
    "[Click here to go to the next section, \"Faceting with seaborn\"](https://www.kaggle.com/residentmario/faceting-with-seaborn)."
   ]
  },
  {
   "cell_type": "markdown",
   "metadata": {
    "_cell_guid": "c4feb139-4c1b-482d-ae3a-5071bf25e92b",
    "_uuid": "8350b66fe85e6eb62851374159d2515637705078"
   },
   "source": [
    "# Faceting with seaborn\n",
    "\n",
    "<table>\n",
    "<tr>\n",
    "<td><img src=\"https://i.imgur.com/wU9M9gu.png\" width=\"350px\"/></td>\n",
    "<td><img src=\"https://i.imgur.com/85d2nIj.png\" width=\"350px\"/></td>\n",
    "</tr>\n",
    "<tr>\n",
    "<td style=\"font-weight:bold; font-size:16px;\">Facet Grid</td>\n",
    "<td style=\"font-weight:bold; font-size:16px;\">Pair Plot</td>\n",
    "</tr>\n",
    "<tr>\n",
    "<td>sns.FacetGrid()</td>\n",
    "<td>sns.pairplot()</td>\n",
    "</tr>\n",
    "<tr>\n",
    "<td>Good for data with at least two categorical variables.</td>\n",
    "<td>Good for exploring most kinds of data.</td>\n",
    "</tr>\n",
    "</table>\n",
    "\n",
    "So far in this tutorial we've been plotting data in one (univariate) or two (bivariate) dimensions, and we've learned how plotting in `seaborn` works. In this section we'll dive deeper into `seaborn` by exploring **faceting**.\n",
    "\n",
    "Faceting is the act of breaking data variables up across multiple subplots, and combining those subplots into a single figure. So instead of one bar chart, we might have, say, four, arranged together in a grid.\n",
    "\n",
    "In this notebook we'll put this technique in action, and see why it's so useful."
   ]
  },
  {
   "cell_type": "code",
   "execution_count": null,
   "metadata": {
    "_cell_guid": "08304e30-5d2c-4aef-81e0-848362ef27b6",
    "_kg_hide-input": true,
    "_uuid": "4c49de85a3c12a8537e6e95cb935ef5037408b30"
   },
   "outputs": [],
   "source": [
    "import pandas as pd\n",
    "pd.set_option('max_columns', None)\n",
    "df = pd.read_csv(\"../data_collection/fifa-18-demo-player-dataset/CompleteDataset.csv\", index_col=0)\n",
    "df.head()"
   ]
  },
  {
   "cell_type": "code",
   "execution_count": null,
   "metadata": {
    "_cell_guid": "08304e30-5d2c-4aef-81e0-848362ef27b6",
    "_kg_hide-input": true,
    "_uuid": "4c49de85a3c12a8537e6e95cb935ef5037408b30"
   },
   "outputs": [],
   "source": [
    "import re\n",
    "import numpy as np\n",
    "\n",
    "footballers = df.copy()\n",
    "footballers['Unit'] = df['Value'].str[-1]\n",
    "footballers['Value (M)'] = np.where(footballers['Unit'] == '0', 0, \n",
    "                                    footballers['Value'].str[1:-1].replace(r'[a-zA-Z]',''))\n",
    "footballers['Value (M)'] = footballers['Value (M)'].astype(float)\n",
    "footballers['Value (M)'] = np.where(footballers['Unit'] == 'M', \n",
    "                                    footballers['Value (M)'], \n",
    "                                    footballers['Value (M)']/1000)\n",
    "footballers = footballers.assign(Value=footballers['Value (M)'],\n",
    "                                 Position=footballers['Preferred Positions'].str.split().str[0])"
   ]
  },
  {
   "cell_type": "markdown",
   "metadata": {
    "_cell_guid": "d1daf1f0-50a1-453f-bc1b-db1502f4be30",
    "_uuid": "61a2cd6bd24d91e04210692e6688fbd87629d3dc"
   },
   "source": [
    "(Note: the first code cell above contains some data pre-processing. This is extraneous, and so I've hidden it by default.)"
   ]
  },
  {
   "cell_type": "code",
   "execution_count": null,
   "metadata": {
    "_cell_guid": "6311e1fc-be4e-4204-8ba4-5fc2c7747ad5",
    "_uuid": "11945927b88db393c4ed7f0b56d32c996293d5eb"
   },
   "outputs": [],
   "source": [
    "footballers.head()"
   ]
  },
  {
   "cell_type": "code",
   "execution_count": null,
   "metadata": {
    "_cell_guid": "71089741-490d-4789-8202-cad7a16f8810",
    "_uuid": "e8d1995fd738d77b12b8bf11270a871f5a8d3802"
   },
   "outputs": [],
   "source": [
    "import seaborn as sns"
   ]
  },
  {
   "cell_type": "markdown",
   "metadata": {
    "_cell_guid": "f3fa6cdf-5017-4de2-8b36-0746599feb29",
    "_uuid": "6cb3450efeb35aee28d2503ff6a2faef0f5ddcff"
   },
   "source": [
    "## The FacetGrid\n",
    "\n",
    "The core `seaborn` utility for faceting is the `FacetGrid`. A `FacetGrid` is an object which stores some information on how you want to break up your data visualization.\n",
    "\n",
    "For example, suppose that we're interested in (as in the previous notebook) comparing strikers and goalkeepers in some way. To do this, we can create a `FacetGrid` with our data, telling it that we want to break the `Position` variable down by `col` (column).\n",
    "\n",
    "Since we're zeroing in on just two positions in particular, this results in a pair of grids ready for us to \"do\" something with them:"
   ]
  },
  {
   "cell_type": "code",
   "execution_count": null,
   "metadata": {
    "_cell_guid": "392a9bc1-b6a1-4e11-89bb-4fb73518ccd4",
    "_uuid": "8613c63e7890aa4bf96488150bed461797b335f9"
   },
   "outputs": [],
   "source": [
    "df = footballers[footballers['Position'].isin(['ST', 'GK'])]\n",
    "g = sns.FacetGrid(df, col=\"Position\")"
   ]
  },
  {
   "cell_type": "markdown",
   "metadata": {
    "_cell_guid": "c5310010-2896-46ed-84bb-3f7749aef2ee",
    "_uuid": "bb25457e931ea2e35771bbd60df3c14c7a438af5"
   },
   "source": [
    "From there, we use the `map` object method to plot the data into the laid-out grid."
   ]
  },
  {
   "cell_type": "code",
   "execution_count": null,
   "metadata": {
    "_cell_guid": "e4d28a53-13c0-42ab-baa8-c6c0da87579c",
    "_uuid": "f716f6e51dc4df10e02d0c4fd6469974faacc2c3"
   },
   "outputs": [],
   "source": [
    "df = footballers[footballers['Position'].isin(['ST', 'GK'])]\n",
    "g = sns.FacetGrid(df, col=\"Position\")\n",
    "g.map(sns.kdeplot, \"Overall\")"
   ]
  },
  {
   "cell_type": "markdown",
   "metadata": {
    "_cell_guid": "d1215f6d-f67a-441b-b1d0-a51666ca7802",
    "_uuid": "fd160a77a9c59bbf6366a84873f9e92dfb23f738"
   },
   "source": [
    "Passing a method into another method like this may take some getting used to, if this is your first time seeing this being done. But once you get used to it, `FacetGrid` is very easy to use.\n",
    "\n",
    "By using an object to gather \"design criteria\", `seaborn` does an effective job seamlessly marrying the data *representation* to the data *values*, sparing us the need to lay the plot out ourselves.\n",
    "\n",
    "We're probably interested in more than just goalkeepers and strikers, however. But if we squeezed all of the possible game positions into one row, the resulting plots would be tiny. `FacetGrid` comes equipped with a `col_wrap` parameter for dealing with this case exactly."
   ]
  },
  {
   "cell_type": "code",
   "execution_count": null,
   "metadata": {
    "_cell_guid": "8a66ed6a-c9d3-4e32-918d-d89cf0cb8314",
    "_uuid": "c3148b49cbceee7e91af72695bd70cf71a3051c5"
   },
   "outputs": [],
   "source": [
    "df = footballers\n",
    "\n",
    "g = sns.FacetGrid(df, col=\"Position\", col_wrap=6)\n",
    "g.map(sns.kdeplot, \"Overall\")"
   ]
  },
  {
   "cell_type": "markdown",
   "metadata": {
    "_cell_guid": "51235edf-354f-4bbe-b3b2-3f61bb9178bd",
    "_uuid": "d9183eda2c8efac2cfc1126f44fc2ecb96fcec9e"
   },
   "source": [
    "So far we've been dealing exclusively with one `col` (column) of data. The \"grid\" in `FacetGrid`, however, refers to the ability to lay data out by row *and* column.\n",
    "\n",
    "For example, suppose we're interested in comparing the talent distribution for (goalkeepers and strikers specifically, to keep things succinct) across rival clubs Real Madrid, Atlético Madrid, and FC Barcelona.\n",
    "\n",
    "As the plot below demonstrates, we can achieve this by passing `row=Position` and `col=Club` parameters into the plot."
   ]
  },
  {
   "cell_type": "code",
   "execution_count": null,
   "metadata": {
    "_cell_guid": "b61a850d-a3d5-40fb-9ff7-e209defdfa37",
    "_uuid": "c5f63e588884b423f8f1837de4bd0e292e5fb76b",
    "scrolled": false
   },
   "outputs": [],
   "source": [
    "df = footballers[footballers['Position'].isin(['ST', 'GK'])]\n",
    "df = df[df['Club'].isin(['Real Madrid CF', 'FC Barcelona', 'Atlético Madrid'])]\n",
    "\n",
    "g = sns.FacetGrid(df, row=\"Position\", col=\"Club\")\n",
    "g.map(sns.violinplot, \"Overall\")"
   ]
  },
  {
   "cell_type": "markdown",
   "metadata": {
    "_cell_guid": "5a256783-8ccb-40b3-9e9b-ab8445e61c2e",
    "_uuid": "0e3d38cf96101de0a71586139a215b36673575d2"
   },
   "source": [
    "`FacetGrid` orders the subplots effectively arbitrarily by default. To specify your own ordering explicitly, pass the appropriate argument to the `row_order` and `col_order` parameters."
   ]
  },
  {
   "cell_type": "code",
   "execution_count": null,
   "metadata": {
    "_cell_guid": "3a8b7deb-e6a3-4295-9ae6-155b76e6a71d",
    "_uuid": "367d53b2defa35d139ec39404a729a8e874994f5"
   },
   "outputs": [],
   "source": [
    "df = footballers[footballers['Position'].isin(['ST', 'GK'])]\n",
    "df = df[df['Club'].isin(['Real Madrid CF', 'FC Barcelona', 'Atlético Madrid'])]\n",
    "\n",
    "g = sns.FacetGrid(df, row=\"Position\", col=\"Club\", \n",
    "                  row_order=['GK', 'ST'],\n",
    "                  col_order=['Atlético Madrid', 'FC Barcelona', 'Real Madrid CF'])\n",
    "g.map(sns.violinplot, \"Overall\")"
   ]
  },
  {
   "cell_type": "markdown",
   "metadata": {
    "_cell_guid": "a8145771-4d79-49eb-83a0-1c06bb692d66",
    "_uuid": "9566bcc07d9d79a160b64655e953e7953a6117f0"
   },
   "source": [
    "`FacetGrid` comes equipped with various lesser parameters as well, but these are the most important ones."
   ]
  },
  {
   "cell_type": "markdown",
   "metadata": {
    "_cell_guid": "aefa64ff-fc18-457b-bd39-b54b85e52247",
    "_uuid": "97e249b1e2d8b08a0291b82dbef50334f64eebf7"
   },
   "source": [
    "## Why facet?\n",
    "\n",
    "In a nutshell, faceting is the easiest way to make your data visualization multivariate.\n",
    "\n",
    "Faceting is multivariate because after laying out one (categorical) variable in the rows and another (categorical) variable in the columns, we are already at two variables accounted for before regular plotting has even begun.\n",
    "\n",
    "And faceting is easy because transitioning from plotting a `kdeplot` to gridding them out, as here, is very simple. It doesn't require learning any new visualization techniques. The limitations are the same ones that held for the plots you use inside.\n",
    "\n",
    "Faceting does have some important limitations however. It can only be used to break data out across singular or paired categorical variables with very low numeracy&mdash;any more than five or so dimensions in the grid, and the plots become too small (or involve a lot of scrolling). Additionally it involves choosing (or letting Python) an order to plot in, but with nominal categorical variables that choice is distractingly arbitrary.\n",
    "\n",
    "Nevertheless, faceting is an extremely useful and applicable tool to have in your toolbox."
   ]
  },
  {
   "cell_type": "markdown",
   "metadata": {
    "_cell_guid": "885165ab-1f3d-42c8-bfad-ff0450301248",
    "_uuid": "ab1ba195f45e42f3541c30d1b2a38f5426ebcd68"
   },
   "source": [
    "## Pairplot\n",
    "\n",
    "Now that we understand faceting, it's worth taking a quick once-over of the `seaborn` `pairplot` function.\n",
    "\n",
    "`pairplot` is a very useful and widely used `seaborn` method for faceting *variables* (as opposed to *variable values*). You pass it a `pandas` `DataFrame` in the right shape, and it returns you a gridded result of your variable values:"
   ]
  },
  {
   "cell_type": "code",
   "execution_count": null,
   "metadata": {
    "_cell_guid": "8fa02429-0617-4505-83fc-fe30500ccaa4",
    "_uuid": "242e83b28a0e68fa3de7ef097c0cb3da19642a90"
   },
   "outputs": [],
   "source": [
    "sns.pairplot(footballers[['Overall', 'Potential', 'Value']])"
   ]
  },
  {
   "cell_type": "markdown",
   "metadata": {
    "_cell_guid": "1556d2fe-f157-414f-bf9b-e8adcd1780a1",
    "_uuid": "7af4ec258fccda10791fdf3e9c600019be5c8d96"
   },
   "source": [
    "By default `pairplot` will return scatter plots in the main entries and a histogram in the diagonal. `pairplot` is oftentimes the first thing that a data scientist will throw at their data, and it works fantastically well in that capacity, even if sometimes the scatter-and-histogram approach isn't quite appropriate, given the data types."
   ]
  },
  {
   "cell_type": "markdown",
   "metadata": {
    "_cell_guid": "2a760c7b-5444-4ceb-9c1b-9eaa98de8928",
    "_uuid": "c8455b174c0c88b98883477eade755f72ffecce0"
   },
   "source": [
    "# Examples\n",
    "\n",
    "As in previous notebooks, let's now test ourselves by answering some questions about the plots we've used in this section. Once you have your answers, click on \"Output\" button below to show the correct answers.\n",
    "\n",
    "1. Suppose that we create an `n` by `n` `FacetGrid`. How big can `n` get?\n",
    "2. What are the two things about faceting which make it appealing?\n",
    "3. When is `pairplot` most useful?"
   ]
  },
  {
   "cell_type": "code",
   "execution_count": null,
   "metadata": {
    "_cell_guid": "bb46446c-5ada-435e-a41f-6782a0fd85aa",
    "_kg_hide-input": true,
    "_kg_hide-output": true,
    "_uuid": "d11d6f1b3fdc36747d0095941328d3b73e9d727f"
   },
   "outputs": [],
   "source": [
    "from IPython.display import HTML\n",
    "HTML(\"\"\"\n",
    "<ol>\n",
    "<li>You should try to keep your grid variables down to five or so. Otherwise the plots get too small.</li>\n",
    "<li>It's (1) a multivariate technique which (2) is very easy to use.</li>\n",
    "<li>Pair plots are most useful when just starting out with a dataset, because they help contextualize relationships within it.</li>\n",
    "</ol>\n",
    "\"\"\")"
   ]
  },
  {
   "cell_type": "code",
   "execution_count": null,
   "metadata": {
    "_cell_guid": "00007691-9481-4093-a62f-2f570dc514ea",
    "_uuid": "6e4ad809d542cfcdc46ad1ca1986fc3d704f40bb"
   },
   "outputs": [],
   "source": [
    "import pandas as pd\n",
    "import seaborn as sns\n",
    "\n",
    "pokemon = pd.read_csv(\"../data_collection/Pokemon.csv\", index_col=0)\n",
    "pokemon.head(3)"
   ]
  },
  {
   "cell_type": "code",
   "execution_count": null,
   "metadata": {},
   "outputs": [],
   "source": [
    "Now, can you reproduce the graphs below"
   ]
  },
  {
   "cell_type": "markdown",
   "metadata": {
    "_cell_guid": "64840b1a-c6a1-4343-91ac-d067da667879",
    "_kg_hide-input": true,
    "_uuid": "d7794546baa9b1b18e60a54a253bfdbcef2b96ad"
   },
   "source": [
    "<img src=\"images/67.png\">"
   ]
  },
  {
   "cell_type": "code",
   "execution_count": null,
   "metadata": {},
   "outputs": [],
   "source": []
  },
  {
   "cell_type": "markdown",
   "metadata": {
    "_cell_guid": "2f8ccd14-9b13-458d-afa7-5dd0dc5f290b",
    "_kg_hide-input": true,
    "_uuid": "b1bd39ef62d0c93614fc68b6e2f1b3a7d227500c"
   },
   "source": [
    "<img src=\"images/68.png\">"
   ]
  },
  {
   "cell_type": "code",
   "execution_count": null,
   "metadata": {},
   "outputs": [],
   "source": []
  },
  {
   "cell_type": "markdown",
   "metadata": {
    "_cell_guid": "547d0cd4-32db-4b84-9d33-8d5da37e7c54",
    "_kg_hide-input": true,
    "_uuid": "2cdfd8c86ff01c4b07ce60d03a7d2e780bdc127c"
   },
   "source": [
    "<img src=\"images/69.png\">"
   ]
  },
  {
   "cell_type": "code",
   "execution_count": null,
   "metadata": {},
   "outputs": [],
   "source": []
  },
  {
   "cell_type": "markdown",
   "metadata": {
    "_cell_guid": "d0712a25-c94d-4962-bb81-8e97ef07e44a",
    "_uuid": "f7290723176ef083fed9b50f622feb1d3f1a3077"
   },
   "source": [
    "## Conclusion\n",
    "\n",
    "In this notebook we explored `FacetGrid` and `pairplot`, two `seaborn` facilities for faceting your data, and discussed why faceting is so useful in a broad range of cases.\n",
    "\n",
    "This technique is our first dip into multivariate plotting, an idea that we will explore in more depth with two other approaches in the next section.\n",
    "\n",
    "[Click here to go to the next section, \"Multivariate plotting\"](https://www.kaggle.com/residentmario/multivariate-plotting)."
   ]
  },
  {
   "cell_type": "markdown",
   "metadata": {
    "_cell_guid": "e07a4b44-8040-412a-bc59-6909c0149fab",
    "_uuid": "0f1b2446ae1963306a51551dbda73ed4792964c1"
   },
   "source": [
    "# Multivariate plotting\n",
    "\n",
    "<table>\n",
    "<tr>\n",
    "<td><img src=\"https://i.imgur.com/gJ65O47.png\" width=\"350px\"/></td>\n",
    "<td><img src=\"https://i.imgur.com/3qEqPoD.png\" width=\"350px\"/></td>\n",
    "<td><img src=\"https://i.imgur.com/1fmV4M2.png\" width=\"350px\"/></td>\n",
    "<td><img src=\"https://i.imgur.com/H20s88a.png\" width=\"350px\"/></td>\n",
    "</tr>\n",
    "<tr>\n",
    "<td style=\"font-weight:bold; font-size:16px;\">Multivariate Scatter Plot</td>\n",
    "<td style=\"font-weight:bold; font-size:16px;\">Grouped Box Plot</td>\n",
    "<td style=\"font-weight:bold; font-size:16px;\">Heatmap</td>\n",
    "<td style=\"font-weight:bold; font-size:16px;\">Parallel Coordinates</td>\n",
    "</tr>\n",
    "<tr>\n",
    "<td>df.plot.scatter()</td>\n",
    "<td>df.plot.box()</td>\n",
    "<td>sns.heatmap</td>\n",
    "<td>pd.plotting.parallel_coordinates</td>\n",
    "</tr>\n",
    "<!--\n",
    "<tr>\n",
    "<td>Good for interval and some nominal categorical data.</td>\n",
    "<td>Good for interval and some nominal categorical data.</td>\n",
    "<td>Good for nominal and ordinal categorical data.</td>\n",
    "<td>Good for ordinal categorical and interval data.</td>\n",
    "</tr>\n",
    "-->\n",
    "</table>\n",
    "\n",
    "For most of this tutorial we've been plotting data in one (univariate) or two (bivariate) dimensions. In the previous section we explored faceting: a multivariate plotting method that works by \"gridding out\" the data.\n",
    "\n",
    "In this section we'll delve further into multivariate plotting. First we'll explore \"truly\" multivariate charts. Then we'll examine some plots that use summarization to get at the same thing."
   ]
  },
  {
   "cell_type": "code",
   "execution_count": null,
   "metadata": {},
   "outputs": [],
   "source": [
    "footballers.head()"
   ]
  },
  {
   "cell_type": "markdown",
   "metadata": {
    "_cell_guid": "9264ac9a-d48f-4448-96ba-f4295dc7f60b",
    "_uuid": "4aee5dd8c9ce0b5220fb66352124dfb6d40cc5bd"
   },
   "source": [
    "## Adding more visual variables\n",
    "\n",
    "The most obvious way to plot lots of variables is to augement the visualizations we've been using thus far with even more  [visual variables](http://www.infovis-wiki.net/index.php?title=Visual_Variables). A **visual variable** is any visual dimension or marker that we can use to perceptually distinguish two data elements from one another. Examples include size, color, shape, and one, two, and even three dimensional position.\n",
    "\n",
    "\"Good\" multivariate data displays are ones that make efficient, easily-interpretable use of these parameters.\n",
    "\n",
    "### Multivariate scatter plots\n",
    "\n",
    "Let's look at some examples. We'll start with the scatter plot. Supose that we are interested in seeing which type of offensive players tends to get paid the most: the striker, the right-winger, or the left-winger."
   ]
  },
  {
   "cell_type": "code",
   "execution_count": null,
   "metadata": {
    "_cell_guid": "f8f676ce-e7c9-43bf-88ca-09798284554b",
    "_uuid": "bd007d3c20af70102a2cb943db8fdd31f9fcf14a"
   },
   "outputs": [],
   "source": [
    "import seaborn as sns\n",
    "\n",
    "sns.lmplot(x='Value', y='Overall', hue='Position', \n",
    "           data=footballers.loc[footballers['Position'].isin(['ST', 'RW', 'LW'])], \n",
    "           fit_reg=False)"
   ]
  },
  {
   "cell_type": "markdown",
   "metadata": {
    "_cell_guid": "b76504c3-bb36-4d86-a361-9138d1e83f6f",
    "_uuid": "7334e275fba9e188f50b6f8199dc9efb926a6b0f"
   },
   "source": [
    "This scatterplot uses three visual variables. The horizontal position (x-value) tracks the `Value` of the player (how well they are paid). The vertical position (y-value) tracks the `Overall` score of the player across all attributes. And the color (the `hue` parameter) tracks which of the three categories of interest the player the point represents is in.\n",
    "\n",
    "The new variable in this chart is **color**. Color provides an aesthetically pleasing visual, but it's tricky to use. Looking at this scatter plot we see the same overplotting issue we saw in previous sections. But we no longer have an easy solution, like using a hex plot, because color doesn't make sense in that setting.\n",
    "\n",
    "Another example visual variable is **shape**. Shape controls, well, the shape of the marker:"
   ]
  },
  {
   "cell_type": "code",
   "execution_count": null,
   "metadata": {
    "_cell_guid": "18a9d7a4-1ac3-49b1-957a-01f6d546281a",
    "_uuid": "959507d3569e8bfd4dfb20e6371830bbb0df6f71"
   },
   "outputs": [],
   "source": [
    "sns.lmplot(x='Value', y='Overall', markers=['o', 'x', '*'], hue='Position',\n",
    "           data=footballers.loc[footballers['Position'].isin(['ST', 'RW', 'LW'])],\n",
    "           fit_reg=False\n",
    "          )"
   ]
  },
  {
   "cell_type": "markdown",
   "metadata": {
    "_cell_guid": "4d0e1944-1c23-4c6b-9dd3-fd60368bf496",
    "_uuid": "47abe38fd48342b5875faac268bb55c59497a4b1"
   },
   "source": [
    "`seaborn` is opinionated about what kinds of visual variables you should use, and doesn't provide a shape option very often. This is because simple shapes, though nifty, are perceptually inferior to colors in terms of their distinguishability."
   ]
  },
  {
   "cell_type": "markdown",
   "metadata": {
    "_cell_guid": "7fe507f9-f2be-4315-bbbe-e49d3d4da423",
    "_uuid": "1e917835c252553b1f421078a38ba0b4fde5aad1"
   },
   "source": [
    "### Grouped box plot\n",
    "\n",
    "Another demonstrative plot is the grouped box plot. This plot takes advantage of **grouping**. Suppose we're interested in the following question: do Strikers score higher on \"Aggression\" than Goalkeepers do?"
   ]
  },
  {
   "cell_type": "code",
   "execution_count": null,
   "metadata": {
    "_cell_guid": "e5762fdb-0a07-45f5-ac3e-87a4ed845826",
    "_uuid": "328c65cfe5e3e41ab24c2c3e206f317fea2638bc"
   },
   "outputs": [],
   "source": [
    "f = (footballers\n",
    "         .loc[footballers['Position'].isin(['ST', 'GK'])]\n",
    "         .loc[:, ['Value', 'Overall', 'Aggression', 'Position']]\n",
    "    )\n",
    "f = f[f[\"Overall\"] >= 80]\n",
    "f = f[f[\"Overall\"] < 85]\n",
    "f['Aggression'] = f['Aggression'].astype(float)\n",
    "\n",
    "sns.boxplot(x=\"Overall\", y=\"Aggression\", hue='Position', data=f)"
   ]
  },
  {
   "cell_type": "markdown",
   "metadata": {
    "_cell_guid": "25cf23f1-3341-476b-9227-80287dc2952b",
    "_uuid": "e8cbdf7cf3f02eaef509ec2a2725cb08a18646db"
   },
   "source": [
    "As you can see, this plot demonstrates conclusively that within our datasets goalkeepers (at least, those with an overall score between 80 and 85) have *much* lower Aggression scores than Strikers do.\n",
    "\n",
    "In this plot, the horizontal axis encodes the `Overall` score, the vertical axis encodes the `Aggression` score, and the grouping encodes the `Position`.\n",
    "\n",
    "Grouping is an extremely communicative visual variable: it makes this chart very easy to interpret. However, it has very low cardinality: it's very hard to use groups to fit more than a handful of categorical values. In this plot we've chosen just two player positions and five Overall player scores and the visualization is already rather crowded. Overall, grouping is very similar to faceting in terms of what it can and can't do."
   ]
  },
  {
   "cell_type": "markdown",
   "metadata": {
    "_cell_guid": "241b7a56-98f1-4d85-90ab-6c77a81fc29a",
    "_uuid": "221765939b2a987c05213feabdb1fc971ed443fd"
   },
   "source": [
    "## Summarization\n",
    "\n",
    "It is difficult to squeeze enough dimensions onto a plot without hurting its interpretability. Very busy plots are naturally very hard to interpret. Hence highly multivariate can be difficult to use.\n",
    "\n",
    "Another way to plot many dataset features while circumnavigating this problem is to use **summarization**. Summarization is the creation and addition of new variables by mixing and matching the information provided in the old ones.\n",
    "\n",
    "Summarization is a useful technique in data visualization because it allows us to \"boil down\" potentially very complicated relationships into simpler ones.\n",
    "\n",
    "### Heatmap\n",
    "\n",
    "Probably the most heavily used summarization visualization is the **correlation plot**, in which measures the correlation between every pair of values in a dataset and plots a result in color."
   ]
  },
  {
   "cell_type": "code",
   "execution_count": null,
   "metadata": {
    "_cell_guid": "b838e384-b3bf-4d1b-827b-4610705553b8",
    "_uuid": "f919de86265b0a563fc77c75b087515f4fb1c8a4"
   },
   "outputs": [],
   "source": [
    "f = (\n",
    "    footballers.loc[:, ['Acceleration', 'Aggression', 'Agility', 'Balance', 'Ball control']]\n",
    "        .applymap(lambda v: int(v) if str.isdecimal(v) else np.nan)\n",
    "        .dropna()\n",
    ").corr()\n",
    "\n",
    "sns.heatmap(f, annot=True)"
   ]
  },
  {
   "cell_type": "markdown",
   "metadata": {
    "_cell_guid": "7bfa9f35-034c-4643-a838-6b77fd678957",
    "_uuid": "569e4dc25a2318b92794bd694963c254223e2887"
   },
   "source": [
    "Each cell in this plot is the intersection of two variables; its color and label together indicate the amount of *correlation* between the two variables (how likely both variables are the increase or decrease at the same time). For example, in this dataset Agility and Acceleration are highly correlated, while Aggression and Balanced are very uncorrelated.\n",
    "\n",
    "A correlation plot is a specific kind of **heatmap**. A heatmap maps one particular fact (in this case, correlation) about every pair of variables you chose from a dataset."
   ]
  },
  {
   "cell_type": "markdown",
   "metadata": {
    "_cell_guid": "53653d70-6700-4e0b-b9de-e89a54751e27",
    "_uuid": "f6dcddb7a493946b88d0a7ce39cc9b2fadc5a761"
   },
   "source": [
    "In the visualization above we've plotted a sample of 200 goalkeepers (in dark green) and strikers (in light green) across our five variables of interest.\n",
    "\n",
    "Parallel coordinates plots are great for determining how distinguishable different classes are in the data. They standardize the variables from top to bottom... In this case, we see that strikers are almost uniformally higher rated on all of the variables we've chosen, meaning these two classes of players are very easy to distinguish."
   ]
  },
  {
   "cell_type": "markdown",
   "metadata": {
    "_cell_guid": "1cdb176a-6e85-4da7-9829-6c8934609ef1",
    "_uuid": "d1cda161320371cb3e018b30bf2329d91c33596b"
   },
   "source": [
    "## Exercises"
   ]
  },
  {
   "cell_type": "code",
   "execution_count": null,
   "metadata": {
    "_cell_guid": "aa870ee6-8815-4145-9d11-675f5f9f645b",
    "_uuid": "8b13ab27b485830e0b9b3b9108cfe6f06490871b"
   },
   "outputs": [],
   "source": [
    "pokemon = pd.read_csv(\"../input/pokemon/Pokemon.csv\", index_col=0)\n",
    "pokemon.head()"
   ]
  },
  {
   "cell_type": "markdown",
   "metadata": {
    "_cell_guid": "0fe46ca8-6f7f-4e9f-87e2-bf980296a85a",
    "_uuid": "d1258c9b55089e5a0f3cbafd816465d65e0bf801"
   },
   "source": [
    "Try answering the following questions. Click the \"Output\" button on the cell below to see the answers.\n",
    "\n",
    "1. What are three techniques for creating multivariate data visualziations?\n",
    "2. Name three examples of visual variables.\n",
    "3. How does summarization in data visualization work?"
   ]
  },
  {
   "cell_type": "code",
   "execution_count": null,
   "metadata": {
    "_cell_guid": "e104eaf6-33c7-4784-8084-17e6fa886c35",
    "_kg_hide-input": true,
    "_uuid": "0202bd31335b2264f2e86bca89130102f32dd389"
   },
   "outputs": [],
   "source": [
    "import seaborn as sns\n",
    "\n",
    "# scatter plot Defense against Attack, \n",
    "# hues depending on Legendary, markers of 'x' and 'o'\n"
   ]
  },
  {
   "cell_type": "code",
   "execution_count": null,
   "metadata": {
    "_cell_guid": "e1c8bff0-1cd5-438f-9508-296dc2672286",
    "_kg_hide-input": true,
    "_uuid": "3fc8896104bf1b0c4dce0464152423fa9474efb5"
   },
   "outputs": [],
   "source": [
    "# boxplot Total depending on Generation, hue is 'legendary'\n"
   ]
  },
  {
   "cell_type": "code",
   "execution_count": null,
   "metadata": {
    "_cell_guid": "37c682ee-eba0-423c-9e43-6112f5aa127b",
    "_kg_hide-input": true,
    "_uuid": "11aefdb44b099cd2b5dbe8848f442447524566a1"
   },
   "outputs": [],
   "source": [
    "# heatmap of 'HP', 'Attack', 'Sp. Atk', 'Defense', 'Sp. Def', 'Speed'\n"
   ]
  },
  {
   "cell_type": "markdown",
   "metadata": {
    "_cell_guid": "801eb076-3152-447a-a5b4-5a66eb0aac0c",
    "_uuid": "156d479a3e0ddde35f5a436d34875eeb28dc77f6"
   },
   "source": [
    "# Conclusion\n",
    "\n",
    "In this tutorial we followed up on faceting, covered in the last section, by diving into two other multivariate data visualization techniques.\n",
    "\n",
    "The first technique, adding more visual variables, results in more complicated but potentially more detailed plots. The second technique, summarization, compresses variable information to a summary statistic, resulting in a simple output&mdash;albeit at the cost of expressiveness.\n",
    "\n",
    "Faceting, adding visual variables, and summarization are the three multivariate techniques that we will cover in this tutorial."
   ]
  },
  {
   "cell_type": "markdown",
   "metadata": {
    "_cell_guid": "45a9ce14-2be5-429a-a154-58e176579f30",
    "_uuid": "1e25292032a2209244e69cd12a8b22fb887c95a1"
   },
   "source": [
    "<table>\n",
    "<tr>\n",
    "<td><img src=\"https://i.imgur.com/BqJgyzB.png\" width=\"350px\"/></td>\n",
    "<td><img src=\"https://i.imgur.com/ttYzMwD.png\" width=\"350px\"/></td>\n",
    "<td><img src=\"https://i.imgur.com/WLmzj41.png\" width=\"350px\"/></td>\n",
    "<td><img src=\"https://i.imgur.com/LjRTbCn.png\" width=\"350px\"/></td>\n",
    "</tr>\n",
    "<tr>\n",
    "<td style=\"font-weight:bold; font-size:16px;\">Scatter Plot</td>\n",
    "<td style=\"font-weight:bold; font-size:16px;\">Choropleth</td>\n",
    "<td style=\"font-weight:bold; font-size:16px;\">Heatmap</td>\n",
    "<td style=\"font-weight:bold; font-size:16px;\">Surface Plot</td>\n",
    "</tr>\n",
    "<tr>\n",
    "<td>go.Scatter()</td>\n",
    "<td>go.Choropleth()</td>\n",
    "<td>go.Heatmap()</td>\n",
    "<td>go.Surface()</td>\n",
    "</tr>\n",
    "<!--\n",
    "<tr>\n",
    "<td>Good for interval and some nominal categorical data.</td>\n",
    "<td>Good for interval and some nominal categorical data.</td>\n",
    "<td>Good for nominal and ordinal categorical data.</td>\n",
    "<td>Good for ordinal categorical and interval data.</td>\n",
    "</tr>\n",
    "-->\n",
    "</table>"
   ]
  }
 ],
 "metadata": {
  "kernelspec": {
   "display_name": "Python 3",
   "language": "python",
   "name": "python3"
  },
  "language_info": {
   "codemirror_mode": {
    "name": "ipython",
    "version": 3
   },
   "file_extension": ".py",
   "mimetype": "text/x-python",
   "name": "python",
   "nbconvert_exporter": "python",
   "pygments_lexer": "ipython3",
   "version": "3.7.0"
  }
 },
 "nbformat": 4,
 "nbformat_minor": 1
}
