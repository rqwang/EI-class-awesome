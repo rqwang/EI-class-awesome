{
 "cells": [
  {
   "cell_type": "markdown",
   "metadata": {},
   "source": [
    "Paython 1: Basic introduction to Python\n",
    "--\n",
    "Reference: dataquest.io"
   ]
  },
  {
   "cell_type": "markdown",
   "metadata": {},
   "source": [
    "Let's start with basic operations"
   ]
  },
  {
   "cell_type": "code",
   "execution_count": null,
   "metadata": {},
   "outputs": [],
   "source": [
    "1+2"
   ]
  },
  {
   "cell_type": "code",
   "execution_count": null,
   "metadata": {},
   "outputs": [],
   "source": [
    "print(1+2)\n",
    "print(2*4)"
   ]
  },
  {
   "cell_type": "code",
   "execution_count": null,
   "metadata": {},
   "outputs": [],
   "source": [
    "# comment lines:\n",
    "# print(1 + 2)\n",
    "print(5 * 10)\n",
    "# This program will only print 50"
   ]
  },
  {
   "cell_type": "code",
   "execution_count": null,
   "metadata": {},
   "outputs": [],
   "source": [
    "# Arithmatic operations\n",
    "print(1 + 2)\n",
    "print(4 - 5)\n",
    "print(30 * 1)\n",
    "print(20 / 3)\n",
    "print(4**3)\n",
    "print((4 * 18)**2 / 10)"
   ]
  },
  {
   "cell_type": "code",
   "execution_count": null,
   "metadata": {},
   "outputs": [],
   "source": [
    "# Storing values to variables:\n",
    "\n",
    "twenty = 20\n",
    "result = 43 + 2**5\n",
    "currency = 'USD'\n",
    "\n",
    "print(twenty,result,currency)"
   ]
  },
  {
   "cell_type": "code",
   "execution_count": null,
   "metadata": {},
   "outputs": [],
   "source": [
    "# updating the value stored in a variable:\n",
    "\n",
    "x = 30\n",
    "x += 10 # this is the same as x = x + 10"
   ]
  },
  {
   "cell_type": "code",
   "execution_count": null,
   "metadata": {},
   "outputs": [],
   "source": [
    "# Rounding a number:\n",
    "\n",
    "round(4.99) # the output will be 5"
   ]
  },
  {
   "cell_type": "code",
   "execution_count": null,
   "metadata": {},
   "outputs": [],
   "source": [
    "# Using quotation marks to create a string:\n",
    "\n",
    "app_name = \"Clash of Clans\"\n",
    "app_rating = '3.5'"
   ]
  },
  {
   "cell_type": "code",
   "execution_count": null,
   "metadata": {},
   "outputs": [],
   "source": [
    "# Concatenating two or more strings:\n",
    "\n",
    "print('a' + 'b') # prints 'ab'\n",
    "print('a' + 'b' + 'c') # prints 'abc'"
   ]
  },
  {
   "cell_type": "code",
   "execution_count": null,
   "metadata": {},
   "outputs": [],
   "source": [
    "# Converting between types of variables:\n",
    "\n",
    "int('4')\n",
    "str(4)\n",
    "float('4.3')\n",
    "str('4.3')"
   ]
  },
  {
   "cell_type": "code",
   "execution_count": null,
   "metadata": {},
   "outputs": [],
   "source": [
    "# Finding the type of a value:\n",
    "\n",
    "type(4)\n",
    "type('4')"
   ]
  },
  {
   "cell_type": "markdown",
   "metadata": {},
   "source": [
    "List and For loop\n",
    "--"
   ]
  },
  {
   "cell_type": "code",
   "execution_count": null,
   "metadata": {},
   "outputs": [],
   "source": [
    "# Creating a list of data points:\n",
    "\n",
    "row_1 = ['Facebook', 0.0, 'USD', 2974676, 3.5]\n",
    "row_2 = ['Instagram', 0.0, 'USD', 2161558, 4.5]"
   ]
  },
  {
   "cell_type": "code",
   "execution_count": null,
   "metadata": {},
   "outputs": [],
   "source": [
    "# Creating a list of lists:\n",
    "\n",
    "data = [row_1, row_2]"
   ]
  },
  {
   "cell_type": "code",
   "execution_count": null,
   "metadata": {},
   "outputs": [],
   "source": [
    "# Retrieving an element of a list:\n",
    "\n",
    "first_row = data[0]\n",
    "first_element_in_first_row = first_row[0]\n",
    "first_element_in_first_row = data[0][0]\n",
    "last_element_in_first_row = first_row[-1]\n",
    "last_element_in_first_row = data[0][-1]"
   ]
  },
  {
   "cell_type": "code",
   "execution_count": null,
   "metadata": {},
   "outputs": [],
   "source": [
    "# Retrieving multiple list elements and creating a new list:\n",
    "\n",
    "row_1 = ['Facebook', 0.0, 'USD', 2974676, 3.5]\n",
    "rating_data_only = [row_1[3], row_1[4]]"
   ]
  },
  {
   "cell_type": "code",
   "execution_count": null,
   "metadata": {},
   "outputs": [],
   "source": [
    "# Performing list slicing:\n",
    "\n",
    "row_1 = ['Facebook', 0.0, 'USD', 2974676, 3.5]\n",
    "second_to_fourth_element = row_1[1:4]"
   ]
  },
  {
   "cell_type": "code",
   "execution_count": null,
   "metadata": {},
   "outputs": [],
   "source": [
    "# Opening a data set file and using it to create a list lists:\n",
    "\n",
    "opened_file = open('../data_collection/barcelona-data-sets/accidents_2017.csv')\n",
    "\n",
    "from csv import reader\n",
    "read_file = reader(opened_file)\n",
    "apps_data = list(read_file)"
   ]
  },
  {
   "cell_type": "code",
   "execution_count": null,
   "metadata": {},
   "outputs": [],
   "source": [
    "# Repeating a process using a for loop:\n",
    "\n",
    "row_1 = ['Facebook', 0.0, 'USD', 2974676, 3.5]\n",
    "for data_point in row_1:\n",
    "    print(data_point)"
   ]
  },
  {
   "cell_type": "code",
   "execution_count": null,
   "metadata": {},
   "outputs": [],
   "source": [
    "# Using an if statement to control your code:\n",
    "\n",
    "if True:\n",
    "    print(1)\n",
    "if 1 == 1:\n",
    "    print(2)\n",
    "    print(3)"
   ]
  },
  {
   "cell_type": "code",
   "execution_count": null,
   "metadata": {},
   "outputs": [],
   "source": [
    "# Combining multiple conditions:\n",
    "\n",
    "if 3 > 1 and 'data == data':\n",
    "    print('Both conditions are true!')  \n",
    "if 10 < 20 or 4 <= 5:\n",
    "    print('At least one condition is true.')"
   ]
  },
  {
   "cell_type": "code",
   "execution_count": null,
   "metadata": {},
   "outputs": [],
   "source": [
    "# Building more complex if statements:\n",
    "\n",
    "if (20 > 3 and 2 != 1) or 'Games' == 'Games':\n",
    "    print('At least one condition is true.')"
   ]
  },
  {
   "cell_type": "code",
   "execution_count": null,
   "metadata": {},
   "outputs": [],
   "source": [
    "# Using the else clause:\n",
    "\n",
    "if False:\n",
    "    print(1)\n",
    "else:\n",
    "    print('The condition above was false.')"
   ]
  },
  {
   "cell_type": "code",
   "execution_count": null,
   "metadata": {},
   "outputs": [],
   "source": [
    "# Using the elif clause:\n",
    "\n",
    "if False:\n",
    "    print(1)\n",
    "elif 30 > 5:\n",
    "    print('The condition above was false.')"
   ]
  },
  {
   "cell_type": "markdown",
   "metadata": {},
   "source": [
    "Concepts\n",
    "--\n",
    "We can use an if statement to implement a condition in our code.\n",
    "\n",
    "An elif clause is executed if the preceding if statement (or the other preceding elif clauses) resolves to False and the condition specified after the elif keyword evaluates to True.\n",
    "\n",
    "True and False are Boolean values.\n",
    "\n",
    "and and or are logical operators, and they bridge two or more Booleans together.\n",
    "\n",
    "We can compare a value A to value B to determine whether:\n",
    "\n",
    "A is equal to B and vice versa (B is equal to A) — ==.\n",
    "\n",
    "A is not equal to B and vice versa — !=.\n",
    "\n",
    "A is greater than B or vice versa — >.\n",
    "\n",
    "A is greater than or equal to B or vice versa — >=.\n",
    "\n",
    "A is less than B or vice versa — <.\n",
    "\n",
    "A is less than or equal to B or vice versa — <=."
   ]
  },
  {
   "cell_type": "code",
   "execution_count": null,
   "metadata": {},
   "outputs": [],
   "source": [
    "# Creating a dictionary:\n",
    "\n",
    "# First way\n",
    "dictionary = {'key_1': 1, 'key_2': 2}"
   ]
  },
  {
   "cell_type": "code",
   "execution_count": null,
   "metadata": {},
   "outputs": [],
   "source": [
    "# Second way\n",
    "dictionary = {}\n",
    "dictionary['key_1'] = 1\n",
    "dictionary['key_2'] = 2"
   ]
  },
  {
   "cell_type": "code",
   "execution_count": null,
   "metadata": {},
   "outputs": [],
   "source": [
    "# Retrieving individual dictionary values:\n",
    "\n",
    "dictionary = {'key_1': 100, 'key_2': 200}\n",
    "dictionary['key_1']  # Outputs 100\n",
    "dictionary['key_2']  # Outputs 200"
   ]
  },
  {
   "cell_type": "code",
   "execution_count": null,
   "metadata": {},
   "outputs": [],
   "source": [
    "# Checking whether a certain value exist in the dictionary as a key:\n",
    "\n",
    "dictionary = {'key_1': 100, 'key_2': 200}\n",
    "'key_1' in dictionary  # Outputs True\n",
    "'key_5' in dictionary  # Outputs False\n",
    "100 in dictionary  # Outputs False"
   ]
  },
  {
   "cell_type": "code",
   "execution_count": null,
   "metadata": {},
   "outputs": [],
   "source": [
    "# Updating dictionary values:\n",
    "\n",
    "dictionary = {'key_1': 100, 'key_2': 200}\n",
    "dictionary['key_1'] += 600  # This will change the value to 700"
   ]
  },
  {
   "cell_type": "code",
   "execution_count": null,
   "metadata": {},
   "outputs": [],
   "source": [
    "# Creating a frequency table for the unique values in a column of a data set:\n",
    "a_data_set={'a_1',\n",
    "            'a_2',\n",
    "            'key_1', \n",
    "            'key_2', \n",
    "            'key_3',\n",
    "            'key_4', \n",
    "            'key_5', \n",
    "            'key_6'}\n",
    "frequency_table = {}\n",
    "for row in a_data_set:\n",
    "    a_data_point = row[0]\n",
    "    if a_data_point in frequency_table:\n",
    "        frequency_table[a_data_point] += 1\n",
    "    else:\n",
    "        frequency_table[a_data_point] = 1\n",
    "print(frequency_table)\n"
   ]
  },
  {
   "cell_type": "markdown",
   "metadata": {},
   "source": [
    "Concepts\n",
    "--\n",
    "The index of a dictionary value is called a key. In '4+': 4433, the dictionary key is '4+', and the dictionary value is 4433. As a whole, '4+': 4433 is a key-value pair.\n",
    "\n",
    "Dictionary values can be of any data type: strings, integers, floats, Booleans, lists, and even dictionaries. \n",
    "\n",
    "Dictionary keys can be of almost any data type we've learned so far, excepting lists and dictionaries. If we use lists or dictionaries as dictionary keys, the computer raises an error.\n",
    "\n",
    "We can check whether a certain value exist in the dictionary as a key using an the in operator. An in expression always returns a Boolean value.\n",
    "\n",
    "The number of times a unique value occurs is also called frequency. Tables that map unique values to their frequencies are called frequency tables.\n",
    "\n",
    "When we iterate over a dictionary with a for loop, the looping is done by default over the dictionary keys."
   ]
  },
  {
   "cell_type": "markdown",
   "metadata": {},
   "source": [
    "How to run Python:\n",
    "    --\n",
    "    Command Line: script vs interactive\n",
    "    Jupyter notebook"
   ]
  },
  {
   "cell_type": "code",
   "execution_count": null,
   "metadata": {},
   "outputs": [],
   "source": [
    "#Creating a function with a single parameter:\n",
    "\n",
    "def square(number):\n",
    "    return number**2"
   ]
  },
  {
   "cell_type": "code",
   "execution_count": null,
   "metadata": {},
   "outputs": [],
   "source": [
    "# Creating a function with more than one parameter:\n",
    "\n",
    "def add(x, y):\n",
    "    return x + y"
   ]
  },
  {
   "cell_type": "code",
   "execution_count": null,
   "metadata": {},
   "outputs": [],
   "source": [
    "# Reusing a function within another function's definition:\n",
    "\n",
    "def add_to_square(x):\n",
    "    return square(x) + 1000  # we defined square() above"
   ]
  },
  {
   "cell_type": "markdown",
   "metadata": {},
   "source": [
    "Concepts\n",
    "--\n",
    "Generally, a function displays this pattern:\n",
    "    \n",
    "It takes in an input.\n",
    "\n",
    "It does something to that input.\n",
    "\n",
    "It gives back an output.\n",
    "\n",
    "In Python, we have built-in functions (like sum(), max(), min(), len(), print(), etc.) and functions that we can create ourselves.\n",
    "\n",
    "Structurally, a function is composed of a header (which contains the def statement), a body, and a return statement.\n",
    "\n",
    "Input variables are called parameters, and the various values that parameters take are called arguments. In def square(number), the number variable is a parameter. In square(number=6), the value 6 is an argument that is passed to the parameter number.\n",
    "\n",
    "Arguments that are passed by name are called keyword arguments (the parameters give the name). When we use multiple keyword arguments, the order we use doesn't make any practical difference.\n",
    "\n",
    "Arguments that are passed by position are called positional arguments. When we use multiple positional arguments, the order we use matters.\n",
    "\n",
    "Debugging more complex functions can be a bit more challenging, but we can find the bugs by reading the traceback."
   ]
  },
  {
   "cell_type": "code",
   "execution_count": null,
   "metadata": {},
   "outputs": [],
   "source": [
    "# Initiating parameters with default arguments:\n",
    "\n",
    "def add_value(x, constant=3.14):\n",
    "    return x + constant"
   ]
  },
  {
   "cell_type": "code",
   "execution_count": null,
   "metadata": {},
   "outputs": [],
   "source": [
    "#Using multiple return statements:\n",
    "\n",
    "def sum_or_difference(a, b, do_sum):\n",
    "    if do_sum:\n",
    "        return a + b\n",
    "    return a - b"
   ]
  },
  {
   "cell_type": "code",
   "execution_count": null,
   "metadata": {},
   "outputs": [],
   "source": [
    "# Returning multiple variables:\n",
    "\n",
    "def sum_and_difference(a, b):\n",
    "    a_sum = a + b\n",
    "    difference = a - b\n",
    "    return a_sum, difference\n",
    "sum_1, diff_1 = sum_and_difference(15, 10)"
   ]
  },
  {
   "cell_type": "markdown",
   "metadata": {},
   "source": [
    "Concepts\n",
    "--\n",
    "We need to avoid using the name of a built-in function to name a function or a variable because this overwrites the built-in function.\n",
    "\n",
    "Each built-in function is well documented in the official Python documentation.\n",
    "\n",
    "Parameters and return statements are not mandatory when we create a function."
   ]
  },
  {
   "cell_type": "code",
   "execution_count": null,
   "metadata": {},
   "outputs": [],
   "source": [
    "def print_constant():\n",
    "    x = 3.14\n",
    "    print(x)\n",
    "    "
   ]
  },
  {
   "cell_type": "markdown",
   "metadata": {},
   "source": [
    "The code inside a function definition is executed only when the function is called.\n",
    "\n",
    "When a function is called, the variables defined inside the function definition are saved into a temporary memory that is erased immediately after the function finishes running. The temporary memory associated with a function is isolated from the memory associated with the main program (the main program is the part of the program outside function definitions).\n",
    "\n",
    "The part of a program where a variable can be accessed is often called scope. The variables defined in the main program are said to be in the global scope, while the variables defined inside a function are in the local scope.\n",
    "\n",
    "Python searches the global scope if a variable is not available in the local scope, but the reverse doesn't apply — Python won't search the local scope if it doesn't find a variable in the global scope. Even if it searched the local scope, the memory associated with a function is temporary, so the search would be pointless."
   ]
  },
  {
   "cell_type": "markdown",
   "metadata": {},
   "source": [
    "\n",
    "\n",
    "STRING FORMATTING AND FORMAT SPECIFICATIONS\n",
    "--\n",
    " Developed by Roger Wang (rq.wang@rutgers.edu) <br>\n",
    " Reference: dataquest.io"
   ]
  },
  {
   "cell_type": "code",
   "execution_count": null,
   "metadata": {},
   "outputs": [],
   "source": [
    "# Replace a substring within a string:\n",
    "\n",
    "green_ball = \"red ball\".replace(\"red\", \"green\")\n",
    "print(green_ball)"
   ]
  },
  {
   "cell_type": "code",
   "execution_count": null,
   "metadata": {},
   "outputs": [],
   "source": [
    "# Remove a substring:\n",
    "\n",
    "friend_removed = \"hello there friend!\".replace(\" friend\", \"\")\n",
    "print(friend_removed)"
   ]
  },
  {
   "cell_type": "code",
   "execution_count": null,
   "metadata": {},
   "outputs": [],
   "source": [
    "# Remove a series of characters from a string:\n",
    "\n",
    "bad_chars = [\"'\", \",\", \".\", \"!\"]\n",
    "string = \"We'll remove apostrophes, commas, periods, and exclamation marks!\"\n",
    "for char in bad_chars:\n",
    "    string = string.replace(char, \"\")\n",
    "print(string)"
   ]
  },
  {
   "cell_type": "code",
   "execution_count": null,
   "metadata": {},
   "outputs": [],
   "source": [
    "# Convert a string to title cases\n",
    "\n",
    "Hello = \"hello\".title()\n",
    "print(Hello)"
   ]
  },
  {
   "cell_type": "code",
   "execution_count": null,
   "metadata": {},
   "outputs": [],
   "source": [
    "#Check a string for the existence of a substring:\n",
    "\n",
    "if \"car\" in \"carpet\":\n",
    "    print(\"The substring was found.\")\n",
    "else:\n",
    "    print(\"The substring was not found.\")"
   ]
  },
  {
   "cell_type": "code",
   "execution_count": null,
   "metadata": {},
   "outputs": [],
   "source": [
    "# Split a string into a list of strings:\n",
    "\n",
    "split_on_dash = \"1980-12-08\".split(\"-\")\n",
    "print(split_on_dash)"
   ]
  },
  {
   "cell_type": "code",
   "execution_count": null,
   "metadata": {},
   "outputs": [],
   "source": [
    "#Slice characters from a string by position:\n",
    "\n",
    "last_five_chars = \"This is a long string.\"[-5:]\n",
    "print(last_five_chars)"
   ]
  },
  {
   "cell_type": "code",
   "execution_count": null,
   "metadata": {},
   "outputs": [],
   "source": [
    "# Concatenate strings:\n",
    "\n",
    "superman = \"Clark\" + \" \" + \"Kent\"\n",
    "print(superman)"
   ]
  },
  {
   "cell_type": "markdown",
   "metadata": {},
   "source": [
    "Concepts\n",
    "--\n",
    "\n",
    "When working with comma separated value (CSV) data in Python, it's common to have your data in a 'list of lists' format, where each item of the internal lists are strings.\n",
    "\n",
    "If you have numeric data stored as strings, sometimes you will need to remove and replace certain characters before you can convert the strings to numeric types like int and float.\n",
    "\n",
    "Strings in Python are made from the same underlying data type as lists, which means you can index and slice specific characters from strings like you can lists."
   ]
  },
  {
   "cell_type": "code",
   "execution_count": null,
   "metadata": {},
   "outputs": [],
   "source": [
    "# Insert a value intro a string:\n",
    "\n",
    "world_cup_semifinal = \"The final score was Croatia {}, England {}\".format(2,1)\n",
    "print(world_cup_semifinal)"
   ]
  },
  {
   "cell_type": "code",
   "execution_count": null,
   "metadata": {},
   "outputs": [],
   "source": [
    "# Format specification for two decimal places:\n",
    "\n",
    "two_decimal_places = \"I own {:.2f}% of the company\".format(32.5548651132)\n",
    "print(two_decimal_places)"
   ]
  },
  {
   "cell_type": "code",
   "execution_count": null,
   "metadata": {},
   "outputs": [],
   "source": [
    "# - Format specification for comma separator:\n",
    "\n",
    "india_pop = \"The approximate population of {} is {}\".format(\"India\",1324000000)\n",
    "print(india_pop)"
   ]
  },
  {
   "cell_type": "code",
   "execution_count": null,
   "metadata": {},
   "outputs": [],
   "source": [
    "# Format specification for padding and alignment:\n",
    "\n",
    "left_aligned_padded_20_chars   = \"| {:<20} |\".format(\"MY_VALUE\")\n",
    "center_aligned_padded_20_chars = \"| {:^20} |\".format(\"MY_VALUE\")\n",
    "right_aligned_padded_20_chars  = \"| {:>20} |\".format(\"MY_VALUE\")\n",
    "\n",
    "print(left_aligned_padded_20_chars,center_aligned_padded_20_chars,right_aligned_padded_20_chars)"
   ]
  },
  {
   "cell_type": "code",
   "execution_count": null,
   "metadata": {},
   "outputs": [],
   "source": [
    "# Format specification to derive padding width from a variable:\n",
    "padding_width=20\n",
    "left_aligned  = \"| {:<{}} |\".format(\"MY_VALUE\", padding_width)\n",
    "print(left_aligned)"
   ]
  },
  {
   "cell_type": "code",
   "execution_count": null,
   "metadata": {},
   "outputs": [],
   "source": [
    "# Order for format specification:\n",
    "\n",
    "balance_string = \"Your bank balance is {:>20,.2f}\".format(12345.678)\n",
    "print(balance_string)"
   ]
  },
  {
   "cell_type": "markdown",
   "metadata": {},
   "source": [
    "Concepts\n",
    "--\n",
    "The str.format() method allows you to insert values into strings without explicitly converting them.\n",
    "The str.format() method also accepts optional format specifications which you can use to format values so they are more easily read."
   ]
  },
  {
   "cell_type": "markdown",
   "metadata": {},
   "source": [
    "Common format codes when working with datetime.datetime.strptime: \n",
    "Strftime Code\tMeaning\tExamples\n",
    "%d\tDay of the month as a zero-padded number1\t04\n",
    "%A\tDay of the week as a word2\tMonday\n",
    "%m\tMonth as a zero-padded number1\t09\n",
    "%Y\tYear as a four-digit number\t1901\n",
    "%y\tYear as a two-digit number with zero-padding1, 3\t01 (2001)\n",
    "88 (1988)\n",
    "%B\tMonth as a word2\tSeptember\n",
    "%H\tHour in 24 hour time as zero-padded number1\t05 (5am)\n",
    "15 (3pm)\n",
    "%p\tAM or PM2\tAM\n",
    "%I\tHour in 12 hour time as zero-padded number1\t05 (5am, or 5pm if AM/PM indicates otherwise)\n",
    "%M\tMinute as a zero-padded number1\t07 1. The strptime parser will parse non-zero padded numbers without raising an error.\n",
    "2. Date parts containing words will be interpreted using the locale settings on your computer, so strptime won't be able to parse 'febrero' (february in Spanish) if your locale is set to an english language locale.\n",
    "3. Year values from 00-68 will be interpreted as 2000-2068, with values 70-99 interpreted as 1970-1999.\n",
    "\n",
    "Operations between timedelta, datetime, date, and time objects: \n",
    "Operation\tExplanation\tResultant Type\n",
    "datetime - datetime\tCalculate the time between two specific dates/times\ttimedelta\n",
    "datetime - timedelta\tSubtract a time period from a date or time.\tdatetime\n",
    "datetime + timedelta\tAdd a time period to a date or time.\tdatetime\n",
    "timedelta + timedelta\tAdd two periods of time together\ttimedelta\n",
    "timedelta - timedelta\tCalculate the difference between two time periods.\ttimedelta\n",
    "timedelta / integer\tDivide a time period by a number.\ttimedelta\n",
    "timedelta * integer\tMultiply a time period by a number.\ttimedelta\n",
    "Epoch Time: \n",
    "Epoch Time\tDate/Time in UTC\tNotes\n",
    "0\tMidnight, January 1, 1970\t\n",
    "1\tOne second after midnight, January 1, 1970\t\n",
    "60\tOne minute after midnight, January 1, 1970\t\n",
    "3600\tOne hour after, January 1, 1970\tThere are 3,600 seconds in one hour\n",
    "86400\tMidnight, January 2, 1970\tThere are 86,400 seconds in 24 hours"
   ]
  },
  {
   "cell_type": "code",
   "execution_count": null,
   "metadata": {},
   "outputs": [],
   "source": [
    "# IMPORTING MODULES AND DEFINITIONS\n",
    "# Importing a whole module:\n",
    "\n",
    "import csv\n",
    "csv.reader()"
   ]
  },
  {
   "cell_type": "code",
   "execution_count": null,
   "metadata": {},
   "outputs": [],
   "source": [
    "# Importing a whole module with an alias:\n",
    "\n",
    "import csv as c\n",
    "c.reader()"
   ]
  },
  {
   "cell_type": "code",
   "execution_count": null,
   "metadata": {},
   "outputs": [],
   "source": [
    "# Importing a single definition:\n",
    "\n",
    "from csv import reader\n",
    "reader()"
   ]
  },
  {
   "cell_type": "code",
   "execution_count": null,
   "metadata": {},
   "outputs": [],
   "source": [
    "# Importing multiple definitions:\n",
    "\n",
    "from csv import reader, writer\n",
    "reader()\n",
    "writer()"
   ]
  },
  {
   "cell_type": "code",
   "execution_count": null,
   "metadata": {},
   "outputs": [],
   "source": [
    "# Importing all definitions:\n",
    "\n",
    "from csv import *"
   ]
  },
  {
   "cell_type": "code",
   "execution_count": null,
   "metadata": {},
   "outputs": [],
   "source": [
    "# WORKING WITH THE DATETIME MODULE\n",
    "# All examples below presume the following import code:\n",
    "\n",
    "import datetime as dt"
   ]
  },
  {
   "cell_type": "code",
   "execution_count": null,
   "metadata": {},
   "outputs": [],
   "source": [
    "# Creating datetime.datetime string given a month, year, and day:\n",
    "\n",
    "eg_1 = dt.datetime(1985, 3, 13)\n",
    "\n",
    "# Creating a datetime.datetime object from a string:\n",
    "\n",
    "eg_2 = dt.datetime.strptime(\"24/12/1984\", \"%d/%m/%Y\")"
   ]
  },
  {
   "cell_type": "code",
   "execution_count": null,
   "metadata": {},
   "outputs": [],
   "source": [
    "# Converting a datetime.datetime object to a string:\n",
    "\n",
    "dt_object = dt.datetime(1984, 12, 24)\n",
    "dt_string = dt_object.strftime(\"%d/%m/%Y\")"
   ]
  },
  {
   "cell_type": "code",
   "execution_count": null,
   "metadata": {},
   "outputs": [],
   "source": [
    "# Instantiating a datetime.time object:\n",
    "\n",
    "eg_3 = datetime.time(hour=0, minute=0, second=0, microsecond=0)"
   ]
  },
  {
   "cell_type": "code",
   "execution_count": null,
   "metadata": {},
   "outputs": [],
   "source": [
    "# Retrieving a part of a date stored in the datetime.datetime object:\n",
    "\n",
    "eg_1.day"
   ]
  },
  {
   "cell_type": "code",
   "execution_count": null,
   "metadata": {},
   "outputs": [],
   "source": [
    "# Creating a date from a datetime.datetime object:\n",
    "\n",
    "d2_dt = dt.datetime(1946, 9, 10)\n",
    "d2 = d2_dt.date()"
   ]
  },
  {
   "cell_type": "code",
   "execution_count": null,
   "metadata": {},
   "outputs": [],
   "source": [
    "# Creating a datetime.date object from a string:\n",
    "\n",
    "d3_str = \"17 February 1963\"\n",
    "d3_dt = dt.datetime.strptime(d3_str, \"%d %B %Y\")\n",
    "d3 = d3_dt.date()"
   ]
  },
  {
   "cell_type": "code",
   "execution_count": null,
   "metadata": {},
   "outputs": [],
   "source": [
    "# Instantiating a datetime.timedelta object:\n",
    "\n",
    "eg_4 = dt.timedelta(weeks=3)"
   ]
  },
  {
   "cell_type": "code",
   "execution_count": null,
   "metadata": {},
   "outputs": [],
   "source": [
    "# Adding a time period to a datetime.datetime object:\n",
    "\n",
    "d1 = dt.date(1963, 2, 26)\n",
    "d1_plus_1wk = d1 + dt.timedelta(weeks=1)"
   ]
  },
  {
   "cell_type": "code",
   "execution_count": null,
   "metadata": {},
   "outputs": [],
   "source": [
    "# Convert integers to objects based on their epoch time value:\n",
    "\n",
    "datetime.datetime.fromtimestamp(345521)"
   ]
  },
  {
   "cell_type": "markdown",
   "metadata": {},
   "source": [
    "Concepts\n",
    "--\n",
    "The datetime module contains five classes:\n",
    "datetime.datetime — For working with date and time data\n",
    "datetime.date — For working with date data only\n",
    "datetime.time — For working with time data only\n",
    "datetime.timedelta — For representing time periods\n",
    "datetime.timezone — For representing a specific time zone\n",
    "Time objects behave similarly to datetime objects for the following reasons:\n",
    "They have attributes like time.hour and time.second that you can use to access individual time components.\n",
    "They have a time.strftime() method, which you can use to create a formatted string representation of the object.\n",
    "The timedelta type represents a period of time, e.g. 30 minutes or two days.\n",
    "Epoch time represents time as an integer, counting the number of seconds since midnight on January 1, 1970. Epoch time is the default on the majority of the world's servers, which makes it an important time format to know and understand."
   ]
  },
  {
   "cell_type": "code",
   "execution_count": null,
   "metadata": {},
   "outputs": [],
   "source": [
    "#Insert a value intro a string:\n",
    "\n",
    "world_cup_semifinal = \"The final score was Croatia {}, England {}\".format(2,1)"
   ]
  },
  {
   "cell_type": "code",
   "execution_count": null,
   "metadata": {},
   "outputs": [],
   "source": [
    "# Format specification for two decimal places:\n",
    "\n",
    "two_decimal_places = \"I own {:.2f}% of the company\".format(32.5548651132)"
   ]
  },
  {
   "cell_type": "code",
   "execution_count": null,
   "metadata": {},
   "outputs": [],
   "source": [
    "#Format specification for comma separator:\n",
    "\n",
    "india_pop = \"The approximate population of {} is {}\".format(\"India\",1324000000)"
   ]
  },
  {
   "cell_type": "code",
   "execution_count": null,
   "metadata": {},
   "outputs": [],
   "source": [
    "#Format specification for padding and alignment:\n",
    "\n",
    "left_aligned_padded_20_chars   = \"| {:<20} |\".format(\"MY_VALUE\")\n",
    "center_aligned_padded_20_chars = \"| {:^20} |\".format(\"MY_VALUE\")\n",
    "right_aligned_padded_20_chars  = \"| {:>20} |\".format(\"MY_VALUE\")"
   ]
  },
  {
   "cell_type": "code",
   "execution_count": null,
   "metadata": {},
   "outputs": [],
   "source": [
    "#Format specification to derive padding width from a variable:\n",
    "padding_width=10\n",
    "left_aligned  = \"| {:<{}} |\".format(\"MY_VALUE\", padding_width)"
   ]
  },
  {
   "cell_type": "code",
   "execution_count": null,
   "metadata": {},
   "outputs": [],
   "source": [
    "#Order for format specification:\n",
    "\n",
    "balance_string = \"Your bank balance is {:>20,.2f}\".format(12345.678)"
   ]
  },
  {
   "cell_type": "markdown",
   "metadata": {},
   "source": [
    "Concepts\n",
    "--\n",
    "The str.format() method allows you to insert values into strings without explicitly converting them.\n",
    "The str.format() method also accepts optional format specifications which you can use to format values so they are more easily read."
   ]
  },
  {
   "cell_type": "markdown",
   "metadata": {},
   "source": [
    "In class practice\n",
    "--\n",
    "Create a game of \"guess number\"\n",
    "1. Generate a random integer number in the range of 0 to 100 (random.randint(0,101))\n",
    "2. Create a for loop with 10 iterations (only 10 chances to guess the number)\n",
    "3. Show a string, sth like \"We have got a new number. Can you guess?\"\n",
    "4. Every time, you input a number<br>\n",
    "    a. first print it on the screen<br>\n",
    "    b. give hint like \"The guessed number {} is too big\" or \"... is too small\" or \"Bingo! {} is the answer!\"<br>\n",
    "    c. make sure you used the string formating knowledge above<br>\n",
    "5. Enjoy! What's the best strategy to win?"
   ]
  },
  {
   "cell_type": "code",
   "execution_count": null,
   "metadata": {},
   "outputs": [],
   "source": [
    "import random\n",
    "random.randint(0,101)"
   ]
  },
  {
   "cell_type": "markdown",
   "metadata": {},
   "source": [
    "NumPy\n",
    "--\n",
    "NumPy is the fundamental package for scientific computing with Python. It contains among other things:\n",
    "\n",
    "a powerful N-dimensional array object <br>\n",
    "sophisticated (broadcasting) functions <br>\n",
    "tools for integrating C/C++ and Fortran code <br>\n",
    "useful linear algebra, Fourier transform, and random number capabilities <br>\n",
    "Besides its obvious scientific uses, NumPy can also be used as an efficient multi-dimensional container of generic data. Arbitrary data-types can be defined. This allows NumPy to seamlessly and speedily integrate with a wide variety of databases."
   ]
  },
  {
   "cell_type": "markdown",
   "metadata": {},
   "source": [
    "%%%%%% <br>\n",
    "As we learn NumPy, we'll be analyzing urban tree data in Oakland (downloaded from Kaggle database). The first few lines of the original CSV file look like\n",
    "\n",
    "OBJECTID,WELLWIDTH,WELLLENGTH,PAREAWIDTH<br>\n",
    "1,4,4,0<br>\n",
    "2,5,5,0<br>\n",
    "3,3,3,0<br>\n",
    "4,3,3,0<br>\n",
    "5,4,9,0<br>\n",
    "6,0,0,5<br>\n",
    "7,2,3,0<br>\n",
    "8,5,7,0<br>\n",
    "9,4,4,0<br>\n",
    "\n",
    "To start working with this CSV data in NumPy, we'll first need to start by importing the NumPy library into our Python environment. For this, we use a simple import statement:"
   ]
  },
  {
   "cell_type": "code",
   "execution_count": null,
   "metadata": {},
   "outputs": [],
   "source": [
    "import csv\n",
    "import numpy as np"
   ]
  },
  {
   "cell_type": "markdown",
   "metadata": {},
   "source": [
    "We used the \"as\" syntax in our \"import\" statement. This allows us to access the NumPy library using another name. When working with NumPy, the convention is to import the library as \"np\" for brevity.\n",
    "\n",
    "Next, we'll use Python's built-in csv module to import our CSV as a 'list of lists'.\n",
    "\n",
    "The last step is to convert our list of lists into a NumPy n-dimensional array, or ndarray. We're going to explain ndarrays in more detail in the next screen, but for now you can think of it as NumPy's version of a list of lists format. To convert from the list type to ndarray, we use the numpy.array() constructor. Here's an example of how it works:\n",
    "\n",
    "# our list of lists is stored as data_list\n",
    "data_ndarray = np.array(data_list)\n",
    "We used the syntax np.array() instead of numpy.array() because of our import numpy as np code. When we introduce a new syntax, we'll always use the full name to describe it, and you'll need to substitute in the shorthand as appropriate.\n",
    "\n",
    "Let's convert our tree CSV into a NumPy ndarray!"
   ]
  },
  {
   "cell_type": "code",
   "execution_count": null,
   "metadata": {},
   "outputs": [],
   "source": [
    "# import oakland-street-tree_clean_number.csv as a list of lists\n",
    "f = open(\"../data_collection/oakland-street-trees/oakland-street-trees_clean_number.csv\", \"r\")\n",
    "tree_list = list(csv.reader(f))\n",
    "\n",
    "# remove the header row and select\n",
    "tree_list = tree_list[1:]\n",
    "\n",
    "# alert: There are empty values. Can you find which line has it?\n",
    "# here we fill the empty string with value 0\n",
    "\n",
    "# convert all values to floats\n",
    "converted_tree_list = []\n",
    "for row in tree_list:\n",
    "    converted_row = []\n",
    "    for item in row:\n",
    "        converted_row.append(float(item))\n",
    "    converted_tree_list.append(converted_row)\n",
    "\n",
    "# start writing your code below this comment"
   ]
  },
  {
   "cell_type": "markdown",
   "metadata": {},
   "source": [
    "Instructions\n",
    "--\n",
    "Add a line of code using the numpy.array() constructor to convert the converted_tree_list variable to a NumPy ndarray. Assign the result to the variable name tree."
   ]
  },
  {
   "cell_type": "code",
   "execution_count": null,
   "metadata": {},
   "outputs": [],
   "source": [
    "tree=np.array(converted_tree_list)"
   ]
  },
  {
   "cell_type": "markdown",
   "metadata": {},
   "source": [
    "As we mentioned earlier, ndarray stands for 'n-dimensional array'. In programming, array is a term that describes a collection of elements. Even if you haven't heard the term before, you have likely encountered arrays: a list object in Python could be described generically as an array. N-dimensional refers to the fact that ndarrays can have one or more dimensions."
   ]
  },
  {
   "cell_type": "markdown",
   "metadata": {},
   "source": [
    "Similar to using lists of lists, we use numbers to specify the location of elements of our data that we want to work with. Just like with lists, we call these numbers index values (or collectively, indices).\n",
    "\n",
    "Unlike with Python lists, every value in an ndarray must be of the same types. For the tree data set this does not matter, as all the values are float values. We'll talk further about this restriction and how to handle it a later mission.\n",
    "\n",
    "Let's take a look at the data in the tree variable from the previous screen by printing it using Python's print() function:"
   ]
  },
  {
   "cell_type": "code",
   "execution_count": null,
   "metadata": {},
   "outputs": [],
   "source": [
    "print(tree)"
   ]
  },
  {
   "cell_type": "code",
   "execution_count": null,
   "metadata": {},
   "outputs": [],
   "source": [
    "# If we wanted to see the how many rows and columns are in our ndarray, we can use the ndarray.shape attribute:\n",
    "print(tree.shape)"
   ]
  },
  {
   "cell_type": "markdown",
   "metadata": {},
   "source": [
    "The output of the ndarray.shape attribute gives us a few important pieces of information:\n",
    "\n",
    "There are two numbers, which tells us that our ndarray is two-dimensional.\n",
    "Note: the data type returned is called a tuple. Tuples are very similar to Python lists, but are immutable (can't be modified). Tuples are defined and displayed using parentheses () rather than brackets [].\n",
    "The first number tells us that the first dimension is 4799 items long, or put another way that there are 4799 rows in our data set.\n",
    "The second number tells us that the second dimension is 4 items long, or put another way that there are 4 columns in our data set.\n",
    "If we just want to select a number of rows from an ndarray, we can use slicing, just like we would with a list of lists. Here's how we would print the first five rows:"
   ]
  },
  {
   "cell_type": "code",
   "execution_count": null,
   "metadata": {},
   "outputs": [],
   "source": [
    "print(tree[:5])"
   ]
  },
  {
   "cell_type": "markdown",
   "metadata": {},
   "source": [
    "Instructions\n",
    "--\n",
    "\n",
    "Throughout all of our Dataquest missions, variables we created in previous screens are available.\n",
    "\n",
    "Select the first ten rows of the tree ndarray, and assign the result to a new variable tree_ten.\n",
    "Use Python's print() function to display tree_ten."
   ]
  },
  {
   "cell_type": "code",
   "execution_count": null,
   "metadata": {},
   "outputs": [],
   "source": [
    "tree_ten=tree[:10]\n",
    "print(tree_ten)"
   ]
  },
  {
   "cell_type": "markdown",
   "metadata": {},
   "source": [
    "Just like we saw in the previous section, selections of rows ndarray's look like they behave very similarly to lists of lists. In reality, what we're seeing is a shortcut of sorts. For any two-dimensional array, the full syntax for selecting data is:\n",
    "\n",
    "ndarray[row,column]\n",
    "\n",
    "or if you want to select all columns for a given set of rows<br>\n",
    "ndarray[row]"
   ]
  },
  {
   "cell_type": "markdown",
   "metadata": {},
   "source": [
    "Where row defines the location along the row axis and column defines the location along the column axis. Both row and column can be one of the following:\n",
    "\n",
    "An integer, indicating a specific location, eg ndarray[3,0].\n",
    "\n",
    "A slice, indicating a range of locations, eg ndarray[0:5,6:].\n",
    "\n",
    "A colon, indicating every location, eg ndarray[:,2].\n",
    "\n",
    "A list of values, indicating specific locations, eg ndarray[[0,1,3,4],0].\n",
    "\n",
    "A boolean array, indicating specific locations - we'll look at this method in detail later.\n",
    "\n",
    "Or any combination of the above.\n",
    "\n",
    "In short, numpy make python look more like MATLAB"
   ]
  },
  {
   "cell_type": "markdown",
   "metadata": {},
   "source": [
    "Instructions\n",
    "--\n",
    "From the tree ndarray:\n",
    "\n",
    "Select the row at index 0 and assign it to row_0.\n",
    "\n",
    "Select every column for the rows at indexes 391 to 500 inclusive and assign them to rows_391_to_500.\n",
    "\n",
    "Select the item at row index 21 and column index 5 and assign it to row_21_column_5"
   ]
  },
  {
   "cell_type": "code",
   "execution_count": null,
   "metadata": {},
   "outputs": [],
   "source": [
    "row_0 = tree[0]\n",
    "\n",
    "rows_391_to_500 = tree[391:501]\n",
    "\n",
    "print(rows_391_to_500.shape)\n",
    "\n",
    "row_21_column_5 = tree[21,3]"
   ]
  },
  {
   "cell_type": "markdown",
   "metadata": {},
   "source": [
    "Challenge\n",
    "--\n",
    "From the tree ndarray:\n",
    "Select every row for the columns at indexes 1, 4, and 7 and assign them to columns_1_4_7.\n",
    "\n",
    "Select the columns at indexes 5 to 8 inclusive for the row at index 99 and assign them to row_99_columns_5_to_8.\n",
    "\n",
    "Select the rows at indexes 100 to 200 inclusive for the column at index 14 and assign them to rows_100_to_200_column_14."
   ]
  },
  {
   "cell_type": "code",
   "execution_count": null,
   "metadata": {},
   "outputs": [],
   "source": [
    "columns"
   ]
  },
  {
   "cell_type": "markdown",
   "metadata": {},
   "source": [
    "# Difference between list and ndarray\n",
    "\n",
    "With data in a list of lists, we'd have to construct a for-loop and add each pair of values from each row individually. To refresh your memory, here's what our example code looked like:"
   ]
  },
  {
   "cell_type": "code",
   "execution_count": null,
   "metadata": {},
   "outputs": [],
   "source": [
    "my_numbers = [\n",
    "              [6, 5],\n",
    "              [1, 3],\n",
    "              [5, 6],\n",
    "              [1, 4],\n",
    "              [3, 7],\n",
    "              [5, 8],\n",
    "              [3, 5],\n",
    "              [8, 4]\n",
    "             ]\n",
    "\n",
    "sums = []\n",
    "\n",
    "for row in my_numbers:\n",
    "    row_sum = row[0] + row[1]\n",
    "    sums.append(row_sum)"
   ]
  },
  {
   "cell_type": "markdown",
   "metadata": {},
   "source": [
    "At the time, we only talked about how vectorized operations make this faster, however it also makes our code to execute this much simpler. We'll break this down into three steps:\n",
    "\n",
    "Convert our data to an ndarray,\n",
    "Select each column,\n",
    "Add the columns.\n",
    "Let's look at what that looks like in code:"
   ]
  },
  {
   "cell_type": "code",
   "execution_count": null,
   "metadata": {},
   "outputs": [],
   "source": [
    "# convert the list of lists to an ndarray\n",
    "my_numbers = np.array(my_numbers)\n",
    "\n",
    "# select each of the columns - the result\n",
    "# of each will be a 1D ndarray\n",
    "col1 = my_numbers[:,0]\n",
    "col2 = my_numbers[:,1]\n",
    "\n",
    "# add the two columns\n",
    "sums = col1 + col2"
   ]
  },
  {
   "cell_type": "code",
   "execution_count": null,
   "metadata": {},
   "outputs": [],
   "source": [
    "# We could simplify this further if we wanted to:\n",
    "\n",
    "sums = my_numbers[:,0] + my_numbers[:,1]"
   ]
  },
  {
   "cell_type": "markdown",
   "metadata": {},
   "source": [
    "Here are some key observations about this code:\n",
    "\n",
    "When we selected each column, we used the syntax ndarray[:,c] where c is the column index we wanted to select. Like we saw in the previous screen, the colon acts as a wildcard and selects all rows.\n",
    "To add the two 1D ndarrays, col1 and col2 (which sometimes would be called vectors in this context), we simply use the addition operator (+) between them.\n",
    "The result of adding two 1D vectors is a 1D vector of the same shape (or dimensions) as the original."
   ]
  },
  {
   "cell_type": "markdown",
   "metadata": {},
   "source": [
    "What we just did, adding two columns (or vectors) together is called vector math. When we're performing vector math on two one-dimensional vectors, both vectors must have the same shape. We can use any of the standard Python numeric operators to perform vector math:\n",
    "\n",
    "What we just did, adding two columns (or vectors) together is called vector math. When we're performing vector math on two one-dimensional vectors, both vectors must have the same shape. We can use any of the standard Python numeric operators to perform vector math:\n",
    "\n",
    "vector_a + vector_b - Addition\n",
    "\n",
    "vector_a - vector_b - Subtraction\n",
    "\n",
    "vector_a * vector_b - Multiplication (this is unrelated to the vector multiplication used in linear algebra).\n",
    "\n",
    "vector_a / vector_b - Division\n",
    "\n",
    "vector_a % vector_b - Modulus (find the remainder when vector_a is divided by vector_b)\n",
    "\n",
    "vector_a ** vector_b - Exponent (raise vector_a to the power of vector_b)\n",
    "\n",
    "vector_a // vector_b - Floor Division (divide vector_a by vector_b, rounding down to the nearest integer)\n",
    "\n",
    "Let's look at an example from our tree dataset. Here are the first five rows of two of the columns in the data set:"
   ]
  },
  {
   "cell_type": "markdown",
   "metadata": {},
   "source": [
    "Instruction\n",
    "--\n",
    "Use vector multiplication to time wellwidth and welllength, assigning the result to wellarea."
   ]
  },
  {
   "cell_type": "code",
   "execution_count": null,
   "metadata": {},
   "outputs": [],
   "source": []
  },
  {
   "cell_type": "markdown",
   "metadata": {},
   "source": [
    "We could use the built-in Python functions min() and max() to make these calculations, however these will perform calculations without taking advantage of vectorization. Instead, we can use NumPy's ndarray methods to calculate statistics.\n",
    "\n",
    "To calculate the minimum value of an 1D ndarray, we use the vectorized ndarray.min() method, like so:"
   ]
  },
  {
   "cell_type": "code",
   "execution_count": null,
   "metadata": {},
   "outputs": [],
   "source": [
    "wl = tree[:,2]\n",
    "wl_min = wl.min()\n",
    "print(wl_min)"
   ]
  },
  {
   "cell_type": "markdown",
   "metadata": {},
   "source": [
    "Before we look at other array methods Let's take a moment to clarify the difference between methods and functions. Functions act as stand alone segments of code that usually take an input, perform some processing, and return some output. When we're working with Python lists, we can use the len() function to calculate the length of a list, but if we're working with Python strings, we can also use len(). In this case, it calculates the numbers of characters (or length) of the string."
   ]
  },
  {
   "cell_type": "code",
   "execution_count": null,
   "metadata": {},
   "outputs": [],
   "source": [
    "my_list = [21,14,91]\n",
    "print(len(my_list))"
   ]
  },
  {
   "cell_type": "code",
   "execution_count": null,
   "metadata": {},
   "outputs": [],
   "source": [
    "my_string = 'Dataquest'\n",
    "print(len(my_string))"
   ]
  },
  {
   "cell_type": "markdown",
   "metadata": {},
   "source": [
    "In contrast, methods are special functions that belong to a specific type of object. Python lists have a list.append() method that we can use to add an item to the end of a list. If we try to use that method on a string, we will get an error:"
   ]
  },
  {
   "cell_type": "code",
   "execution_count": null,
   "metadata": {},
   "outputs": [],
   "source": [
    "my_list.append(21)\n",
    "my_string.append(' is the best!')"
   ]
  },
  {
   "cell_type": "markdown",
   "metadata": {},
   "source": [
    "When you're learning NumPy, this can get confusing, because sometimes there are operations that are implemented as both methods and functions, but sometimes there are not. Let's look at some examples:\n",
    "\n",
    "Calculation\tFunction Representation\tMethod Representation\n",
    "\n",
    "Calculate the minimum value of wellarea\tnp.min(wellarea)\tv.s. wellarea.min()\n",
    "\n",
    "Calculate the maximum value of wellarea\tnp.max(wellarea)\tv.s. wellarea.max()\n",
    "\n",
    "Calculate the mean average value of wellarea\tnp.mean(wellarea)\tv.s. wellarea.mean()\n",
    "\n",
    "Calculate the median average value of wellarea\tnp.median(wellarea)\tv.s. There is no ndarray median method"
   ]
  },
  {
   "cell_type": "markdown",
   "metadata": {},
   "source": [
    "To remember the right terminology, anything that starts with np (e.g. np.mean()) is a function and anything you express with an object (or variable) name first (eg wellarea.mean()) is a method. As we discussed in the previous screen, where both exist it's up to you which you use, but it's much more common to see the method approach, and that's the one we'll use moving forward.\n",
    "\n",
    "Numpy ndarrays have methods for many different calculations. A few key methods are:\n",
    "\n",
    "ndarray.min() to calculate the minimum value\n",
    "\n",
    "ndarray.max() to calculate the maximum value\n",
    "\n",
    "ndarray.mean() to calculate the mean average value\n",
    "\n",
    "ndarray.sum() to calculate the sum of the values\n",
    "\n",
    "You can see them a full list of ndarray methods in the NumPy ndarray documentation.\n",
    "\n",
    "Let's use the methods we've just learned about to calculate the smallest, largest, and mean average speed from our wellarea ndarray."
   ]
  },
  {
   "cell_type": "markdown",
   "metadata": {},
   "source": [
    "Instructions\n",
    "--\n",
    "\n",
    "Use the ndarray.max() method to calculate the maximum value of wellarea and assign the result to area_max.\n",
    "\n",
    "Use the ndarray.mean() method to calculate the average value of wellarea and assign the result to area_mean."
   ]
  },
  {
   "cell_type": "code",
   "execution_count": null,
   "metadata": {},
   "outputs": [],
   "source": []
  },
  {
   "cell_type": "markdown",
   "metadata": {},
   "source": [
    "Instructions\n",
    "--\n",
    "Statistics to columns\n",
    "\n",
    "Using a single method, calculate the mean value for each column of tree, and assign the result to tree_column_means."
   ]
  },
  {
   "cell_type": "code",
   "execution_count": null,
   "metadata": {},
   "outputs": [],
   "source": []
  },
  {
   "cell_type": "markdown",
   "metadata": {},
   "source": [
    "To take a closer look at whether we are getting the correct values, we're going to do the following:\n",
    "\n",
    "Add the wellarea as a column to our tree ndarray.\n",
    "\n",
    "Sort tree by wellarea.\n",
    "\n",
    "Look at the rows with the highest wellarea from our sorted ndarray to see what they tell us about these large values.\n",
    "\n",
    "To start, let's learn how to add rows and columns to an ndarray. The technique we're going to use involves the numpy.concatenate() function. This function accepts:\n",
    "\n",
    "A list of ndarrays as the first, unnamed parameter.\n",
    "\n",
    "An integer for the axis parameter, where 0 will add rows and 1 will add columns.\n",
    "\n",
    "The numpy.concatenate() function requires that each array have the same shape, excepting the dimension corresponding to axis. Let's look at an example to understand more precisely how that works. We have two arrays, ones and zeros:\n",
    "\n",
    "print(ones)\n",
    "\n",
    "[[ 1  1  1]\n",
    "[ 1  1  1]]\n",
    "\n",
    "print(zeros)\n",
    "\n",
    "[ 0  0  0]\n",
    "\n",
    "Let's try and use numpy.concatenate() to add zeros as a row. Because want to add a row, we use axis=0\n",
    "\n",
    "combined = np.concatenate([ones,zeros],axis=0)\n",
    "\n",
    "Traceback (most recent call last):<br>\n",
    "   File \"stdin\", line 1, in module<br>\n",
    "ValueError: all the input arrays must have same number of dimensions<br>\n",
    "\n",
    "We've got an error because our dimensions don't match - let's look at the shape of each array to see if we can understand why:\n",
    "\n",
    "print(ones.shape)<br>\n",
    "(2, 3)<br>\n",
    "print(zeros.shape)<br>\n",
    "(3,)<br>\n",
    "Because we're using axis=0, our shapes have to match across all dimensions except the first. If we look at these two array's we can see that the second dimension of ones is 3, but zeros doesn't have a second dimension, because it's only a 1D array. This is the source of our error. The table below shows the shapes we need to be able to combine these arrays.\n",
    "\n",
    "Object\tCurrent shape\tDesired Shape<br>\n",
    "ones\t(2, 3)\t(2, 3)<br>\n",
    "zeros\t(3,)\t(1, 3)<br>\n",
    "In order to adjust the shape of zeros, we can use the numpy.expand_dims() function. We'll start by passing axis=0 because we want to convert our 1D array into a 2D array representing a row:<br>\n",
    "\n",
    "zeros_2d = np.expand_dims(zeros,axis=0)<br>\n",
    "print(zeros_2d)<br>\n",
    "[[ 0  0  0]]<br>\n",
    "print(zeros_2d.shape)<br>\n",
    "(1, 3)<br>\n",
    "Finally, we can use numpy.concatenate() to combine the two arrays:<br>\n",
    "\n",
    "combined = np.concatenate([ones,zeros_2d],axis=0)<br>\n",
    "print(combined)<br>\n",
    "[[ 1  1  1]<br>\n",
    "[ 1  1  1]<br>\n",
    "[ 0  0  0]]<br>\n",
    "Adding a column is done the same way, except substituting axis=1 for axis=0 in both functions. The initial code for this screen shows this process."
   ]
  },
  {
   "cell_type": "markdown",
   "metadata": {},
   "source": [
    "Instructions\n",
    "--\n",
    "\n",
    "Expand the dimensions of wellarea to be a single column in a 2D ndarray, and assign the result to wellarea_2d.\n",
    "Add wellarea_2d as a new column at the end of tree, assigning the result back to tree.\n",
    "\n",
    "Use the print() function to display taxi and view the new column."
   ]
  },
  {
   "cell_type": "markdown",
   "metadata": {},
   "source": [
    "Sorting\n",
    "--\n",
    "Now that we've added our wellarea column to our array, our next step is to sort the array. For this, we'll use the numpy.argsort() function. The numpy.argsort() function returns the indices which would sort an array. Don't worry if that sounds a little unusual, we'll look at an example to help explain it.\n",
    "\n",
    "We'll start by defining a simple 1D ndarray, where each item is a string containing the name of a fruit:"
   ]
  },
  {
   "cell_type": "code",
   "execution_count": null,
   "metadata": {},
   "outputs": [],
   "source": [
    "fruit = np.array(['orange','banana','apple','grape','cherry'])"
   ]
  },
  {
   "cell_type": "markdown",
   "metadata": {},
   "source": [
    "We've put the indices, or index numbers, next to each value in the array. We use the indices whenever we want to select an item, for instance fruit[2] would return the value 'apple' and fruit[1] would return the value 'banana'. As we learned earlier in the mission, if we selected using a list of values like fruit[[2,1]], we would get back an ndarray of those values in the order: ['apple','banana'].\n",
    "\n",
    "Next, we'll use numpy.argsort() to return the indices that would sort the array:"
   ]
  },
  {
   "cell_type": "code",
   "execution_count": null,
   "metadata": {},
   "outputs": [],
   "source": [
    "sorted_order = np.argsort(fruit)\n",
    "print(sorted_order)"
   ]
  },
  {
   "cell_type": "markdown",
   "metadata": {},
   "source": [
    "If we look at these indices carefully, we can see what has happened. The first value of sorted_order is 2: The value at index 2 of fruit is 'apple', the first item if we sort in alphabetical order. The second value is 1: The value and index 1 of fruit is 'banana', the second item if we sort in alphabetical order, and so on.\n",
    "\n",
    "If we use the array of sorted indices to select items from fruit, here is what we get:"
   ]
  },
  {
   "cell_type": "code",
   "execution_count": null,
   "metadata": {},
   "outputs": [],
   "source": [
    "sorted_fruit = fruit[sorted_order]\n",
    "print(sorted_fruit)"
   ]
  },
  {
   "cell_type": "markdown",
   "metadata": {},
   "source": [
    "In the code above, the values from sorted_order get inserted between the brackets. The code is the equivalent of:\n",
    "\n",
    "sorted_fruit = fruit[[2, 1, 4, 3, 0]]\n",
    "As you can see, the result is that our original array has been sorted in alphabetical order.\n",
    "\n",
    "Let's look at an example with a 2D ndarray. We'll be sorting a 5x5 ndarray called int_square by its last column:"
   ]
  },
  {
   "cell_type": "code",
   "execution_count": null,
   "metadata": {},
   "outputs": [],
   "source": [
    "int_square=np.array([[5,2,8,3,4],\n",
    "[2,8,6,2,5],\n",
    "[1,6,2,7,7],\n",
    "[0,7,7,4,5],\n",
    "[5,7,1,1,2]])\n",
    "print(int_square)"
   ]
  },
  {
   "cell_type": "code",
   "execution_count": null,
   "metadata": {},
   "outputs": [],
   "source": [
    "#We'll start by selecting just the last column.\n",
    "\n",
    "last_column = int_square[:,4]\n",
    "print(last_column)"
   ]
  },
  {
   "cell_type": "code",
   "execution_count": null,
   "metadata": {},
   "outputs": [],
   "source": [
    "# Then, we use numpy.argsort() to get the indices that would sort the last column and assign them to sorted_order.\n",
    "\n",
    "sorted_order = np.argsort(last_column)\n",
    "print(sorted_order)"
   ]
  },
  {
   "cell_type": "code",
   "execution_count": null,
   "metadata": {},
   "outputs": [],
   "source": [
    "# As a test, let's use sorted_order to sort just the last column:\n",
    "\n",
    "last_column_sorted = last_column[sorted_order]\n",
    "print(last_column_sorted)"
   ]
  },
  {
   "cell_type": "code",
   "execution_count": null,
   "metadata": {},
   "outputs": [],
   "source": [
    "#Finally, we can pass sorted_order to sort to the full ndarray:\n",
    "\n",
    "int_square_sorted = int_square[sorted_order]\n",
    "print(int_square_sorted)"
   ]
  },
  {
   "cell_type": "markdown",
   "metadata": {},
   "source": [
    "We can use the same technique to sort our tree ndarray by the wellarea column. NumPy only supports sorting in ascending order, however that is not a problem - we'll just look at the last few rows instead of the first few rows to examine the data we need."
   ]
  },
  {
   "cell_type": "markdown",
   "metadata": {},
   "source": [
    "Instructions\n",
    "--\n",
    "Use numpy.argsort() to get the indices which would sort the wellarea column from the tree ndarray. The wellarea is at column index ??.\n",
    "\n",
    "Use the indices from the previous instruction to sort the tree ndarray, and assign the result to tree_sorted.\n",
    "\n",
    "Use the print() function to examine the tree_sorted ndarray."
   ]
  },
  {
   "cell_type": "code",
   "execution_count": null,
   "metadata": {},
   "outputs": [],
   "source": []
  },
  {
   "cell_type": "markdown",
   "metadata": {},
   "source": [
    "There is no discernible pattern to the date or time of the trips with unrealistic average speeds. We can see that most of them are very short rides - all have trip_length values of 4 or less seconds, which does not reconcile with the trip distances, all of which are more than 16 miles.\n",
    "\n",
    "All of these rows have the same pickup_location_code and dropoff_location_code. This might suggest that the machines that record the data may use the last known GPS signal if they can't find the location, and if a driver starts and finishes a fare quickly, the machine will calculate an accurate time with inaccurate location data.\n",
    "\n",
    "In any case, it's safe to say that the data in these rows is bad, and needs to be removed before any further analysis is performed. We'll look at how to do this in the next mission."
   ]
  },
  {
   "cell_type": "markdown",
   "metadata": {},
   "source": [
    "In this mission we learned:\n",
    "\n",
    "How vectorization makes our code faster.\n",
    "\n",
    "About n-dimensional arrays, and NumPy's ndarrays.\n",
    "\n",
    "How to select specific items, rows, columns, 1D slices, and 2D slices from ndarrays.\n",
    "\n",
    "How to use vector math to apply simple calculations to entire ndarrays.\n",
    "\n",
    "How to use vectorized methods to perform calculations across either axis of ndarrays.\n",
    "\n",
    "How to add extra columns and rows to ndarrays.\n",
    "\n",
    "How to sort an ndarray.\n",
    "\n"
   ]
  }
 ],
 "metadata": {
  "kernelspec": {
   "display_name": "Python 3",
   "language": "python",
   "name": "python3"
  },
  "language_info": {
   "codemirror_mode": {
    "name": "ipython",
    "version": 3
   },
   "file_extension": ".py",
   "mimetype": "text/x-python",
   "name": "python",
   "nbconvert_exporter": "python",
   "pygments_lexer": "ipython3",
   "version": "3.7.0"
  }
 },
 "nbformat": 4,
 "nbformat_minor": 2
}
